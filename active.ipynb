{
 "cells": [
  {
   "cell_type": "markdown",
   "metadata": {},
   "source": [
    "## Active Brownian particles\n",
    "\n",
    "We study the overdamped Brownian dynamics of a self-propelled (\"active\") particle driven by an internal force $F_0 \\hat{n}(t)$, where $\\hat{n}(t)$ is a unit vector.\n",
    "\n",
    "The equations of motion for a 2d active Brownian particle in a bath at temperature $T$ are\n",
    "$$\n",
    "\\xi \\frac{d\\vec{r}}{dt} = F_0 \\hat{n}(t) + \\vec{\\theta}(t)\n",
    "$$\n",
    "$$\n",
    "\\xi_R \\frac{d\\phi}{dt} = \\theta_R(t)\n",
    "$$\n",
    "where $\\hat{n} = (cos(\\phi), sin(\\phi))$ and $\\vec{\\theta}$ and $\\theta_R$ are stochastic forces related to the friction coefficients $\\xi$ and $\\xi_R$ by the usual fluctuation-dissipation relations.\n",
    "\n",
    "Analytical results for this model can be found in http://arxiv.org/abs/0906.3418, see also https://arxiv.org/abs/1005.1343."
   ]
  },
  {
   "cell_type": "code",
   "execution_count": null,
   "metadata": {},
   "outputs": [],
   "source": [
    "import numpy\n",
    "import matplotlib.pyplot as plt "
   ]
  },
  {
   "cell_type": "code",
   "execution_count": null,
   "metadata": {},
   "outputs": [],
   "source": [
    "# Model parameters\n",
    "npart = 1000\n",
    "ndims = 3\n",
    "xi = 1.0\n",
    "xi_R = 1.0 \n",
    "k = 0.5\n",
    "T = 1.0\n",
    "dt = 0.01\n",
    "nsteps = int(3.0 / dt)\n",
    "\n",
    "# DETERMINE THE AMPLITUDE OF THE STOCHASTIC FORCES HERE!\n",
    "# ------------------------------------------------------\n",
    "\n",
    "# Overdamped Brownian dynamics\n",
    "positions = numpy.zeros((npart, ndims))\n",
    "msd = []\n",
    "for i in range(nsteps):\n",
    "    # Store MSD\n",
    "    msd.append(numpy.sum(positions**2) / npart)\n",
    "\n",
    "    # Integration step\n",
    "    for position in positions:\n",
    "        # CODE THE STOCHASTIC FORCES HERE!\n",
    "        # --------------------------------\n",
    "        # noise = numpy.random.normal(0.0, width, ndims)\n",
    "\n",
    "        # CODE THE ACTIVE INTERNAL FORCE HERE!\n",
    "        # ------------------------------------\n",
    "        # force = numpy.zeros(ndims)\n",
    "        position += noise + force * dt / friction\n",
    "\n",
    "time = numpy.array(range(nsteps)) * dt\n",
    "# This is to plot an horizontal line at height y\n",
    "# plt.axhline(y, xmin=time[0], xmax=time[-1])\n",
    "plt.xlabel('t')\n",
    "plt.legend()"
   ]
  },
  {
   "cell_type": "markdown",
   "metadata": {},
   "source": [
    "**Exercise**: *active Brownian particle in a 1d channel*\n",
    "\n",
    "1. Project the equations of motion along the $x$-axis and determine analytically $\\langle \\cos{\\phi(t)}\\rangle$ and $\\langle x(t)\\rangle$.\n",
    "\n",
    "2. Simulate an active Brownian particle confined in a 1d channel and compute the displacement $\\langle x(t) - x(0)\\rangle$. Compare the simulation results against the analytical ones for selected values of $D=k_BT/\\xi$ and $D_R=k_B T/ \\xi_R$. Choose $\\phi(0)=0$. Which factor controls the approach to equilibrium?\n",
    "\n",
    "3. Compute numerically the mean square displacement $\\langle |x(t) - x(0)|^2 \\rangle$ and compare it to the analytical results given in the above references."
   ]
  }
 ],
 "metadata": {
  "kernelspec": {
   "display_name": "Python 3",
   "language": "python",
   "name": "python3"
  },
  "language_info": {
   "codemirror_mode": {
    "name": "ipython",
    "version": 3
   },
   "file_extension": ".py",
   "mimetype": "text/x-python",
   "name": "python",
   "nbconvert_exporter": "python",
   "pygments_lexer": "ipython3",
   "version": "3.8.10"
  }
 },
 "nbformat": 4,
 "nbformat_minor": 4
}
