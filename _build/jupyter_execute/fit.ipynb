{
 "cells": [
  {
   "cell_type": "markdown",
   "metadata": {},
   "source": [
    "## Least-square fits with python \n",
    "\n",
    "There are several ways to perform least-square fits in python. Here are a few:\n",
    "\n",
    "1. [scipy.stats.linregress](https://docs.scipy.org/doc/scipy/reference/generated/scipy.stats.linregress.html) for simple linear regression\n",
    "2. [numpy.polfyit](https://numpy.org/doc/stable/reference/generated/numpy.polyfit.html) for simple polynominal fits\n",
    "3. [scipy.optimize.curve_fit](https://docs.scipy.org/doc/scipy/reference/generated/scipy.optimize.curve_fit.html) for arbitrary fitting functions\n",
    "4. [lmfit](https://lmfit.github.io/lmfit-py/) if you really need to get full control over fit parameters\n",
    "\n",
    "In this simple notebook, we use the function `curve_fit()` defined in `scipy.optimize`. Here is how it works to fit an exponential with noise."
   ]
  },
  {
   "cell_type": "code",
   "execution_count": null,
   "metadata": {},
   "outputs": [],
   "source": [
    "import numpy\n",
    "from scipy.optimize import curve_fit\n",
    "\n",
    "def func(x, a, b, c):\n",
    "    return a * numpy.exp(-b * x) + c\n",
    "xdata = numpy.linspace(0, 4, 50)\n",
    "\n",
    "y = func(xdata, 2.5, 1.3, 0.5)\n",
    "numpy.random.seed(1729)\n",
    "y_noise = 0.2 * numpy.random.normal(size=xdata.size)\n",
    "ydata = y + y_noise"
   ]
  },
  {
   "cell_type": "markdown",
   "metadata": {},
   "source": [
    "Here is the fit. The optimized parameters are stored in the `popt` array returned by the function "
   ]
  },
  {
   "cell_type": "code",
   "execution_count": null,
   "metadata": {},
   "outputs": [],
   "source": [
    "plt.plot(xdata, ydata, 'o', label='data')\n",
    "popt, pcov = curve_fit(func, xdata, ydata)\n",
    "# Note the *popt syntax unpacks the array into individual variables\n",
    "plt.plot(xdata, func(xdata, *popt), '-')"
   ]
  },
  {
   "cell_type": "markdown",
   "metadata": {},
   "source": [
    "**Exercise:**\n",
    "\n",
    "With strongly varying functions, like an exponential, is better to linearize the data and do a simple linear fit. Try fitting the linearized data and extract `a`, `b`. "
   ]
  },
  {
   "cell_type": "markdown",
   "metadata": {},
   "source": [
    "## Fitting the liquid-gas phase coexistence curve\n",
    "\n",
    "The data below show the liquid-gas coexistence pressure P(T) as a function of temperature for water (also known as saturation pressure).\n",
    "\n",
    "Source: NIST (National Institute of Standards and Technology)"
   ]
  },
  {
   "cell_type": "code",
   "execution_count": null,
   "metadata": {},
   "outputs": [],
   "source": [
    "import numpy\n",
    "from matplotlib import pyplot as plt\n",
    "\n",
    "T, P = numpy.loadtxt('data/coexistence_water_vapor.txt', unpack=True)\n",
    "plt.ylabel('P [MPa]')\n",
    "plt.xlabel('T [K]')\n",
    "plt.plot(T, P, 'o')"
   ]
  },
  {
   "cell_type": "markdown",
   "metadata": {},
   "source": [
    "**Exercise**: *Clausius-Clapeyron equation*\n",
    " \n",
    "To determine the coexistence pressure $P(T)$ we will use the Clausius-Clapeyron equation\n",
    "$$\n",
    "\\frac{dP}{dT} = \\frac{L}{T(v_g - v_l)}\n",
    "$$\n",
    "where $L$ is the molar latent heat of vaporisation, $v_g$ is the molar volume of the gas, $v_l$ is the molar volume of the liquid. \n",
    "\n",
    "1. Find an analytical expression for the coexistence curve $P(T)$ under the following assumptions: the vapor is an ideal gas, the liquid is incompressible with $v_l<<v_g$, $L$ is constant.\n",
    "2. Fit the experimental data to the functional form found above and determine the molar latent heat $L$. (Do it in a *clever* way!)"
   ]
  }
 ],
 "metadata": {
  "kernelspec": {
   "display_name": "Python 3",
   "language": "python",
   "name": "python3"
  },
  "language_info": {
   "codemirror_mode": {
    "name": "ipython",
    "version": 3
   },
   "file_extension": ".py",
   "mimetype": "text/x-python",
   "name": "python",
   "nbconvert_exporter": "python",
   "pygments_lexer": "ipython3",
   "version": "3.8.10"
  }
 },
 "nbformat": 4,
 "nbformat_minor": 4
}