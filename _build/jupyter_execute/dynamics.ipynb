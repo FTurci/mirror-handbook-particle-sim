{
 "cells": [
  {
   "cell_type": "markdown",
   "metadata": {},
   "source": [
    "# Dynamic correlation functions\n",
    "\n",
    "We will study the dynamics of a system composed of $N=8000$ particles under periodic boundary conditions and interacting via the Lennard-Jones potential\n",
    "$$\n",
    "u(r) = 4\\epsilon \\left[(\\frac{\\sigma}{r})^{12} - (\\frac{\\sigma}{r})^6\\right]\n",
    "$$\n",
    "which provides a good description of the properties of nobel gases (Ar, Xe, Ne). \n",
    "\n",
    "We will analyze trajectories obtained from molecular dynamics simulations performed in the microcanonical ensemble, at a density $\\rho=0.85$ and several temperatures. As usual, energies and lengths are measured in units of $\\epsilon$ and $\\sigma$, respectively. The following values provide a good description of the properties of Argon using the Lennard-Jones potential: $\\epsilon\\approx 120 K$ and $\\sigma \\approx 3.4\\times 10^{-10}m$."
   ]
  },
  {
   "cell_type": "markdown",
   "metadata": {},
   "source": [
    "We download the trajectory files (in compressed xyz format) and store them in the current directory. They are bigger than the ones we used to study the structure, so be patient"
   ]
  },
  {
   "cell_type": "code",
   "execution_count": null,
   "metadata": {},
   "outputs": [],
   "source": [
    "from atooms.core.utils import download\n",
    "\n",
    "download('https://moodle2.units.it/pluginfile.php/367456/mod_folder/content/0/lammps-T0.7.xyz.gz', '.')\n",
    "download('https://moodle2.units.it/pluginfile.php/367456/mod_folder/content/0/lammps-T4.0.xyz.gz', '.')"
   ]
  },
  {
   "cell_type": "markdown",
   "metadata": {},
   "source": [
    "Let us have a quick look at the thermodynamic state of the system"
   ]
  },
  {
   "cell_type": "code",
   "execution_count": null,
   "metadata": {},
   "outputs": [],
   "source": [
    "from atooms.trajectory import TrajectoryXYZ\n",
    "\n",
    "with TrajectoryXYZ('lj_T4.0.xyz.gz') as th:\n",
    "    system = th[0]\n",
    "    print(system.report())"
   ]
  },
  {
   "cell_type": "markdown",
   "metadata": {},
   "source": [
    "We notice that the fluctuations of the (kinetic) temperature look a bit weird: the reason is that the times at which the frames have been stored are spaced exponentially in time. This is a trick to cover both short and long time scales without occupying too much disk space."
   ]
  },
  {
   "cell_type": "code",
   "execution_count": null,
   "metadata": {},
   "outputs": [],
   "source": [
    "import matplotlib.pyplot as plt\n",
    "\n",
    "# Plot kinetic temperature as a function of time\n",
    "with TrajectoryXYZ('lj_T4.0.xyz.gz') as th:\n",
    "    T = [system.temperature for system in th]\n",
    "    plt.plot(th.times, T)"
   ]
  },
  {
   "cell_type": "markdown",
   "metadata": {},
   "source": [
    "Finally, let's use some `postprocessing` tools to compute some dynamic correlation functions and plot them"
   ]
  },
  {
   "cell_type": "code",
   "execution_count": null,
   "metadata": {},
   "outputs": [],
   "source": [
    "import atooms.postprocessing as pp\n",
    "\n",
    "with TrajectoryXYZ('lj_T4.0.xyz.gz') as th:\n",
    "    cf = pp.MeanSquareDisplacement(th)\n",
    "    cf.compute()\n",
    "    plt.plot(cf.grid, cf.value, '-o')\n",
    "    \n",
    "with TrajectoryXYZ('lj_T0.7.xyz.gz') as th:\n",
    "    cf = pp.MeanSquareDisplacement(th)\n",
    "    cf.compute()\n",
    "    plt.plot(cf.grid, cf.value, '-o')"
   ]
  },
  {
   "cell_type": "code",
   "execution_count": null,
   "metadata": {},
   "outputs": [],
   "source": [
    "with TrajectoryXYZ('lj_T4.0.xyz.gz') as th:\n",
    "    cf = pp.VelocityAutocorrelation(th, th.times[:20])\n",
    "    cf.compute()\n",
    "    plt.plot(cf.grid, cf.value / cf.value[0], '-o')\n",
    "    \n",
    "with TrajectoryXYZ('lj_T0.7.xyz.gz') as th:\n",
    "    cf = pp.VelocityAutocorrelation(th, th.times[:20])\n",
    "    cf.compute()\n",
    "    plt.plot(cf.grid, cf.value / cf.value[0], '-o')"
   ]
  },
  {
   "cell_type": "code",
   "execution_count": null,
   "metadata": {},
   "outputs": [],
   "source": [
    "kvectors = list(range(1, 10))\n",
    "\n",
    "# Note: cf.grid is a list containing the list of wave-vectors\n",
    "# as first entry and the list of times as second entry \n",
    "# cf.value is now a list of the correlation functions at fixed k\n",
    "with TrajectoryXYZ('lj_T4.0.xyz.gz') as th:\n",
    "    cf = pp.SelfIntermediateScattering(th, kgrid=kvectors)\n",
    "    cf.compute()\n",
    "    # We plot the F_s(k,t) for k=7\n",
    "    plt.plot(cf.grid[1], cf.value[kvectors.index(7)], '-o')\n",
    "    \n",
    "with TrajectoryXYZ('lj_T0.7.xyz.gz') as th:\n",
    "    cf = pp.SelfIntermediateScattering(th, kgrid=kvectors)\n",
    "    cf.compute()\n",
    "    # We plot the F_s(k,t) for k=7\n",
    "    plt.plot(cf.grid[1], cf.value[kvectors.index(7)], '-o')"
   ]
  },
  {
   "cell_type": "markdown",
   "metadata": {},
   "source": [
    "**Exercise 1**: *Gaussian approximation*\n",
    "\n",
    "1) Test the Gaussian approximation\n",
    "$$\n",
    "F_s(k,t) = \\exp{\\left(-\\frac{1}{6} k^2 t\\right)}\n",
    "$$\n",
    "by superposing the actual self intermediate scattering function to its approximation for selected values of the wave-vector $k$.\n",
    "\n",
    "*Hint*: use a log scale of the time axis for better visualization.\n",
    "\n",
    "2) Repeat the test for the lowest acceptable wave-vector, which can be selected by asking for a negative wave-vector (ex. -1) in  `kgrid`"
   ]
  }
 ],
 "metadata": {
  "kernelspec": {
   "display_name": "Python 3",
   "language": "python",
   "name": "python3"
  },
  "language_info": {
   "codemirror_mode": {
    "name": "ipython",
    "version": 3
   },
   "file_extension": ".py",
   "mimetype": "text/x-python",
   "name": "python",
   "nbconvert_exporter": "python",
   "pygments_lexer": "ipython3",
   "version": "3.8.10"
  }
 },
 "nbformat": 4,
 "nbformat_minor": 4
}