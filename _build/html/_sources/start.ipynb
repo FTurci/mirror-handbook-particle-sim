{
 "cells": [
  {
   "cell_type": "markdown",
   "metadata": {},
   "source": [
    "## Jupyter notebook: first ride\n",
    "\n",
    "To run a code cell, use `Ctrl-Enter` or click on `Run` in the toolbar.\n",
    "To edit a text cell, double click on it.\n",
    "\n",
    "To plot a functions and data we use matplotlib, which works on lists and numpy arrays. Here we trace $y=x^2$"
   ]
  },
  {
   "cell_type": "code",
   "execution_count": null,
   "metadata": {},
   "outputs": [],
   "source": [
    "import numpy\n",
    "import matplotlib.pyplot as plt\n",
    "\n",
    "x = numpy.linspace(0.0, 6.0)\n",
    "plt.plot(x, x**2, '-o')  "
   ]
  },
  {
   "cell_type": "markdown",
   "metadata": {},
   "source": [
    "We can superpose several curves"
   ]
  },
  {
   "cell_type": "code",
   "execution_count": null,
   "metadata": {},
   "outputs": [],
   "source": [
    "y = 5 + 0.5 * x**2 \n",
    "plt.plot(x, x**2, label='x^2')\n",
    "plt.plot(x, y, label='y')\n",
    "plt.xlabel('x')\n",
    "plt.legend()"
   ]
  },
  {
   "cell_type": "markdown",
   "metadata": {},
   "source": [
    "Two hints :\n",
    "\n",
    "- use the `Tab` key to complete variable and function names\n",
    "- add a question mark right after the name of a function and run the cell to show the corresponding help page"
   ]
  },
  {
   "cell_type": "code",
   "execution_count": null,
   "metadata": {},
   "outputs": [],
   "source": [
    "plt.plot?"
   ]
  },
  {
   "cell_type": "markdown",
   "metadata": {},
   "source": [
    "**Exercises** :\n",
    "\n",
    "- add a code cell and plot $y=log(x)$ between 0.5 and 0.1\n",
    "- add a text cell using \"Markdown\" in the toolbar and add some text (you can write equations using latex syntax). Then enter `Ctrl-Enter` to render the text "
   ]
  }
 ],
 "metadata": {
  "kernelspec": {
   "display_name": "Python 3",
   "language": "python",
   "name": "python3"
  },
  "language_info": {
   "codemirror_mode": {
    "name": "ipython",
    "version": 3
   },
   "file_extension": ".py",
   "mimetype": "text/x-python",
   "name": "python",
   "nbconvert_exporter": "python",
   "pygments_lexer": "ipython3",
   "version": "3.8.10"
  }
 },
 "nbformat": 4,
 "nbformat_minor": 4
}
