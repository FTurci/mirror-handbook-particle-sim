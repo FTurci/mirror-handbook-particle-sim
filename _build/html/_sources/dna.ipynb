{
 "cells": [
  {
   "cell_type": "markdown",
   "metadata": {},
   "source": [
    "# Force-extension relation in DNA chains\n",
    "\n",
    "We model the force-extension relation $f(\\delta\\ell)$ of a single polymer chain using the freely jointed chain (FJC) and worm-like chain (WLC) models and fit the theoretical results to experimental data for $\\lambda$-DNA (from https://doi.org/10.1126/science.271.5257.1835).\n",
    "\n",
    "Note: in this context, the WLC model is the continuous version of the Kratky-Porod model, which can be solved numerically. The FJC model is just the ideal chain model."
   ]
  },
  {
   "cell_type": "code",
   "execution_count": null,
   "metadata": {},
   "outputs": [],
   "source": [
    "import numpy\n",
    "from matplotlib import pyplot as plt\n",
    "\n",
    "# Experimental data using the Brownian motion method\n",
    "# From https://doi.org/10.1126/science.271.5257.1835\n",
    "# Columns: Extension (um), Force (pN)\n",
    "dna = numpy.loadtxt('data/dna_exp.txt', unpack=True)\n",
    "\n",
    "# Exact solution of the worm-like chain model\n",
    "# from https://doi.org/10.1016/S0006-3495(99)77207-3\n",
    "# first column: <z> / L_0 (L_0 contour lenght)\n",
    "# second column: F L_p / k_B (L_p persistence length) \n",
    "wlc = numpy.loadtxt('data/dna_wca.txt', unpack=True)\n",
    "\n",
    "# Freely jointed chain\n",
    "def L(x):\n",
    "    \"\"\"Langevin funcion\"\"\"\n",
    "    def coth(x):\n",
    "        return numpy.cosh(x) / numpy.sinh(x)\n",
    "    return coth(x) - 1/x\n",
    "\n",
    "plt.xlabel('Extension [um]')\n",
    "plt.ylabel('Force [pN]')\n",
    "plt.plot(dna[0], dna[1])\n",
    "#plt.semilogy(dna[0], dna[1], 'o')\n",
    "#plt.plot(wlc[0], wlc[1])"
   ]
  },
  {
   "cell_type": "markdown",
   "metadata": {},
   "source": [
    "**Excercice 1**: *$\\lambda$-DNA*\n",
    "\n",
    "Compare the force-extension experimental data for $\\lambda$-DNA, provided in the above array `dna`, to the exact solution of the following two models:\n",
    "- the FJC model, as given in class. The Langevin function $L(x) = \\coth(x) - 1/x$ is coded above for convenience \n",
    "- the WLC model, as provided numerically in the `wlc` array above, which gives $F \\ell_p / k_B$ as a function of $\\delta\\ell / L$ (see https://doi.org/10.1016/S0006-3495(99)77207-3).\n",
    "\n",
    "For each model, adjust the parameters to best fit the experimental data. You can fit the data using one of the scipy functions mentioned in the `fit.ipynb` notebook or simply adjust the parameters by hand. Assume room temperature. From this analysis:\n",
    "\n",
    "1. estimate of the effective Kuhn segment $b$ using the FJC model\n",
    "2. estimate of the persistence length $\\ell_p$ and contour lenght $L$ using the WLC model.\n",
    "\n",
    "**Exercice 2**: *one-dimensional ideal chain*\n",
    "\n",
    "A simple (though unphysical) model, which can be treated analytically for long enough chains, is the one-dimensional ideal chain. Suppose the chain is composed by $N$ segments of length $a$, of which $M$ are oriented along the positive axis. The contour length is $L=Na$.\n",
    "\n",
    "1. Verifiy that the number of possible conformation with end-to-end distance $R$ is\n",
    "$$\n",
    "\\Omega(R) = \\frac{N!}{M!(N-M)!}\n",
    "$$\n",
    "and express $R$ in terms of $M$ and $N$.\n",
    "2. Find the free energy $F(R)$ for fixed $R$\n",
    "3. At constant $T$, the work done on the chain by an external force $\\vec{f}$ is $\\delta W = -\\vec{f}\\cdot d\\vec{R} = dF$. Using the Stirling approximation, show that the force-extension relation can be written as \n",
    "$$\n",
    "f = - \\frac{\\partial F}{\\partial R} \\approx \\frac{k_B T}{2a} \\log{\\frac{1+\\frac{R}{ML}}{1-\\frac{R}{ML}}}\n",
    "$$\n",
    "4. Discuss the limits $F\\rightarrow 0$ and $F\\rightarrow \\infty$. \n",
    "5. To cross check, find the force-extension relation by calculating the partition function of the perturbed system with Hamiltonian $H=H_0 - fR$.\n",
    "\n",
    "**Exercice 3**: *Gaussian chain model*\n",
    "\n",
    "Determine the force-extension relation $f(\\delta\\ell)$ in a Gaussian chain of $M+1$ effective monomers interacting through the effective hamiltonian\n",
    "$$\n",
    "\\mathcal{H}_0 = \\sum_{i=1}^M \\frac{3k_BT}{2b^2} |\\vec{R}_{i+1} - \\vec{R}_i|^2\n",
    "$$\n",
    "where $b$ is the Kuhn segment and $\\vec{R}_i$ is the position of monomer $i$. Remember that the vectors $\\vec{b}_i=\\vec{R}_{i+1} - \\vec{R}_i$ are independent variables.\n",
    "\n",
    "**Exercice 4**: *Worm-like chain model*\n",
    "\n",
    "We look for some limiting behavior of the worm-like chain (WLC) model. We consider $N+1$ monomers with bond length $a$.  In this model, the Hamiltonian contains the following bending energy term\n",
    "$$\n",
    "U_b = - \\frac{B}{a^3} \\sum_{i=1}^N \\vec{a}_i\\cdot\\vec{a}_{i+1} = - \\frac{B}{a} \\sum_{i=1}^N \\cos{\\Theta_i}\n",
    "$$\n",
    "where $B$ is the bending modulus, $\\vec{a}_i$ is the distance between monomer $i+1$ and $i$ and $\\Theta_i$ is the corresponding angle. Note: this model is usually studied in its continuous version.\n",
    "\n",
    "Write down the partition function and obtain approximate force-extension relations for (i) small forces ($f\\rightarrow 0$) and (ii) large forces ($f\\rightarrow \\infty$). In case (i), which result is recovered?\n",
    "\n",
    "\n",
    "\n",
    "\n"
   ]
  }
 ],
 "metadata": {
  "kernelspec": {
   "display_name": "Python 3",
   "language": "python",
   "name": "python3"
  },
  "language_info": {
   "codemirror_mode": {
    "name": "ipython",
    "version": 3
   },
   "file_extension": ".py",
   "mimetype": "text/x-python",
   "name": "python",
   "nbconvert_exporter": "python",
   "pygments_lexer": "ipython3",
   "version": "3.8.10"
  }
 },
 "nbformat": 4,
 "nbformat_minor": 4
}
