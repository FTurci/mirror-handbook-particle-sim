{
 "cells": [
  {
   "cell_type": "markdown",
   "metadata": {},
   "source": [
    "## Random walk\n",
    "\n",
    "We simulate a simple random walk in $d$ dimensions. In a first implementation, the steps have a fixed length $\\delta$ along each dimension. To improve the statistics, we simulate $M$ independent walks at a time, and average the mean square displacement $\\langle |\\Delta \\vec{r}|^2\\rangle$ over the different realizations of the walk."
   ]
  },
  {
   "cell_type": "code",
   "execution_count": null,
   "metadata": {},
   "outputs": [],
   "source": [
    "import numpy\n",
    "import matplotlib.pyplot as plt "
   ]
  },
  {
   "cell_type": "code",
   "execution_count": null,
   "metadata": {},
   "outputs": [],
   "source": [
    "# Number of steps\n",
    "N = 100\n",
    "# Number of walks\n",
    "M = 1000\n",
    "# Number of dimensions\n",
    "dims = 3\n",
    "# Size of step\n",
    "delta = 1.0\n",
    "\n",
    "# The initial position is the origin\n",
    "position = numpy.zeros((M, dims))\n",
    "\n",
    "# Random walk\n",
    "msd = []\n",
    "for i in range(N):\n",
    "    for p in position:\n",
    "        # Fixed displacement\n",
    "        dr = delta * numpy.random.choice([-1, 1], size=dims)\n",
    "        p += dr\n",
    "    msd.append(numpy.sum(position**2) / M)\n",
    "\n",
    "time = numpy.array(range(N))\n",
    "plt.plot(time, msd, 'o', label='Data')\n",
    "plt.plot(time, dims * delta**2 * time, '-', label='Theory')\n",
    "plt.xlabel('t')\n",
    "plt.ylabel('MSD')\n",
    "plt.legend()"
   ]
  },
  {
   "cell_type": "markdown",
   "metadata": {},
   "source": [
    "**Exercise 1**: plot the trajectory $\\vec{r}(t) = (x(t), y(t))$ of a single walk in 2d "
   ]
  },
  {
   "cell_type": "markdown",
   "metadata": {},
   "source": [
    "**Exercise 2**: code the following two kinds of displacements\n",
    "\n",
    "1. discrete north-south-east-west displacement in 2d\n",
    "2. continuous displacement uniformly distributed on a square of side $\\delta$ in 2d\n",
    "\n",
    "For each case, compare the numerical data to the theoretical prediction."
   ]
  },
  {
   "cell_type": "markdown",
   "metadata": {},
   "source": [
    "**Exercise 3**: measure the probability density function (pdf) $p(x,t)$ for a random walk in 1d with a uniformly distributed displacement on the interval $[-\\delta, \\delta]$. Choose $10$ time units and compare to the numerical results to the theoretical prediction for a random walk in the continuum limit.\n",
    "\n",
    "*Hint*: to compute the pdf, use the function `numpy.histogram()` with `density=True`. The function returns the pdf values and the bins edges. The get the midpoints of the bins, modify the array like this ```bins = 0.5 * (bins[1:] + bins[:-1])```"
   ]
  }
 ],
 "metadata": {
  "kernelspec": {
   "display_name": "Python 3",
   "language": "python",
   "name": "python3"
  },
  "language_info": {
   "codemirror_mode": {
    "name": "ipython",
    "version": 3
   },
   "file_extension": ".py",
   "mimetype": "text/x-python",
   "name": "python",
   "nbconvert_exporter": "python",
   "pygments_lexer": "ipython3",
   "version": "3.8.10"
  }
 },
 "nbformat": 4,
 "nbformat_minor": 4
}
