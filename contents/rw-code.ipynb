{
 "cells": [
  {
   "cell_type": "markdown",
   "metadata": {},
   "source": [
    "# &#x2699; Efficient random walks"
   ]
  },
  {
   "cell_type": "markdown",
   "metadata": {},
   "source": [
    "## Bare-bone random walks\n",
    "\n",
    "We have seen [earlier](rw) a simple implementation of random walks in Python."
   ]
  },
  {
   "cell_type": "code",
   "execution_count": 22,
   "metadata": {},
   "outputs": [],
   "source": [
    "import numpy as np\n",
    "\n",
    "\n",
    "def naive_random_walker(N, M, delta=1.0, dims=1):\n",
    "    \"\"\"\n",
    "    Simulates a random walk. Parameters:\n",
    "    - N: number of steps\n",
    "    - M: number fo walkers\n",
    "    - delta: size of one step (default=1)\n",
    "    - dims : number of dimensions (default=1)\n",
    "    \"\"\"\n",
    "\n",
    "    # The initial position is the origin\n",
    "    position = np.zeros((N, M, dims))\n",
    "    # Random walks\n",
    "    for i in range(1, N):\n",
    "        for w in range(M):\n",
    "            dr = delta * np.random.choice([-1, 1], size=dims)\n",
    "            position[i, w] = position[i - 1, w] + dr\n",
    "    return position\n"
   ]
  },
  {
   "cell_type": "markdown",
   "metadata": {},
   "source": [
    "To inspect the performance of the code, we can use the **profiler** included in jupyter notebooks. \n",
    "\n",
    "This is invoked via a so-called *magic* command `prun`, prepended in front of teh function. We also use the optional argument `-s cumulative` to sort the output in terms of the cumulative time spent in different parts of the code."
   ]
  },
  {
   "cell_type": "code",
   "execution_count": 33,
   "metadata": {},
   "outputs": [
    {
     "name": "stdout",
     "output_type": "stream",
     "text": [
      "          1881005 function calls in 4.041 seconds\n",
      "\n",
      "   Ordered by: cumulative time\n",
      "\n",
      "   ncalls  tottime  percall  cumtime  percall filename:lineno(function)\n",
      "        1    0.000    0.000    4.041    4.041 {built-in method builtins.exec}\n",
      "        1    0.000    0.000    4.041    4.041 <string>:1(<module>)\n",
      "        1    0.620    0.620    4.040    4.040 2149943443.py:4(naive_random_walker)\n",
      "    99000    0.972    0.000    3.421    0.000 {method 'choice' of 'numpy.random.mtrand.RandomState' objects}\n",
      "   198000    0.222    0.000    2.449    0.000 <__array_function__ internals>:177(prod)\n",
      "   198000    0.145    0.000    2.189    0.000 {built-in method numpy.core._multiarray_umath.implement_array_function}\n",
      "   198000    0.240    0.000    2.044    0.000 fromnumeric.py:2955(prod)\n",
      "   198000    0.528    0.000    1.804    0.000 fromnumeric.py:69(_wrapreduction)\n",
      "   198000    0.836    0.000    0.836    0.000 {method 'reduce' of 'numpy.ufunc' objects}\n",
      "   198000    0.232    0.000    0.232    0.000 {built-in method builtins.getattr}\n",
      "   198000    0.175    0.000    0.175    0.000 fromnumeric.py:70(<dictcomp>)\n",
      "   198000    0.039    0.000    0.039    0.000 fromnumeric.py:2950(_prod_dispatcher)\n",
      "   198000    0.033    0.000    0.033    0.000 {method 'items' of 'dict' objects}\n",
      "        1    0.000    0.000    0.000    0.000 {built-in method numpy.zeros}\n",
      "        1    0.000    0.000    0.000    0.000 {method 'disable' of '_lsprof.Profiler' objects}"
     ]
    }
   ],
   "source": [
    "%prun -s cumulative naive_random_walker(100,1000)"
   ]
  },
  {
   "cell_type": "markdown",
   "metadata": {},
   "source": [
    "The first three lines are not interesting as they refer to the function object itself.\n",
    "The fourth item is immediately interesting as it refers to `method 'choice' of 'numpy.random.mtrand.RandomState'`. Clearly, the way we are generating the random steps is time-consuming, as we are picking from a Python list of two elements.\n",
    "\n",
    "Such high-level calculations are typically  not performing well. We can therefore improve the performance of the code by considering an alternative way to generate lists of arrays such as `[-1,1,..]` in $d$ dimensions.\n",
    "\n",
    "The simplest option is to use another function from `numpy` leveraging a paritcle to spin mapping that is common in physics.\n",
    "\n",
    "Suppose that $n$ is a variable describing the occupation number of a site on a lattice, so that $n=0,1$. If we want to map empty sites to down spins and filled sites to up spins we can perform a chage of variable\n",
    "\n",
    "$$s = 2n-1$$\n",
    "\n",
    "so that $s=-1,1$ for $n=0,1$.\n",
    "\n",
    "The same idea can be employed to our code, where we can replace the call of `np.random.choice` with `np.random.randint(0,2)*2-1`"
   ]
  },
  {
   "cell_type": "code",
   "execution_count": 44,
   "metadata": {},
   "outputs": [],
   "source": [
    "def improved_random_walker(N, M, delta=1.0, dims=1):\n",
    "    \"\"\"\n",
    "    Simulates a random walk. Parameters:\n",
    "    - N: number of steps\n",
    "    - M: number fo walkers\n",
    "    - delta: size of one step (default=1)\n",
    "    - dims : number of dimensions (default=1)\n",
    "    \"\"\"\n",
    "\n",
    "    # The initial position is the origin\n",
    "    position = np.zeros((N, M, dims))\n",
    "    # Random walks\n",
    "    for i in range(1, N):\n",
    "        for w in range(M):\n",
    "            dr = delta * np.random.randint(0, 2, size=dims) * 2 - 1\n",
    "            position[i, w] = position[i - 1, w] + dr\n",
    "    return position\n"
   ]
  },
  {
   "cell_type": "markdown",
   "metadata": {},
   "source": [
    "We can compare the two using the `%%time` magic command"
   ]
  },
  {
   "cell_type": "code",
   "execution_count": 40,
   "metadata": {},
   "outputs": [
    {
     "name": "stdout",
     "output_type": "stream",
     "text": [
      "CPU times: user 2.82 s, sys: 34.1 ms, total: 2.85 s\n",
      "Wall time: 2.86 s\n"
     ]
    }
   ],
   "source": [
    "%%time \n",
    "pos = naive_random_walker(100,1000)"
   ]
  },
  {
   "cell_type": "code",
   "execution_count": 45,
   "metadata": {},
   "outputs": [
    {
     "name": "stdout",
     "output_type": "stream",
     "text": [
      "CPU times: user 2.06 s, sys: 17.3 ms, total: 2.07 s\n",
      "Wall time: 2.09 s\n"
     ]
    }
   ],
   "source": [
    "%%time \n",
    "pos = improved_random_walker(100,1000)"
   ]
  },
  {
   "cell_type": "markdown",
   "metadata": {},
   "source": [
    "The `naive` code is about 40% percent slower than the `improved` code.\n",
    "\n",
    "Can we do better?"
   ]
  },
  {
   "cell_type": "markdown",
   "metadata": {},
   "source": [
    "The code entails two `for` loops. In Python, for loops are slow and nested loops are particularly so.\n",
    "\n",
    "The simplest way to accelerate the code is to leverage the strength of just in time compilers like [`numba`](https://numba.pydata.org). \n",
    "\n",
    "You can install numba via \n",
    "\n",
    "```\n",
    "pip install numba\n",
    "```\n",
    "\n",
    "`numba` accelerates the code through a clever translation of the Python code into `C/C++` code which is compiled on-the fly. This means that the first execution of the code can be slow (as pre-compilation occurs), but the second and following executions will benefit from the `C` translation.\n",
    "\n",
    "For the translation to take place, `numba` needs to correctly infer the variable types used in the code. \n",
    "\n",
    "A black-box usage of numba is possible and is straighforward. It requires the addition of a **decorator** `@numba.njit` in fornt of the function that we want to accelerate."
   ]
  },
  {
   "cell_type": "code",
   "execution_count": 14,
   "metadata": {},
   "outputs": [],
   "source": [
    "import numba as nb\n",
    "\n",
    "\n",
    "@nb.njit\n",
    "def numba_random_walker(N, M, delta=1.0, dims=1):\n",
    "    \"\"\"\n",
    "    Simulates a random walk. Parameters:\n",
    "    - N: number of steps\n",
    "    - M: number fo walkers\n",
    "    - delta: size of one step (default=1)\n",
    "    - dims : number of dimensions (default=1)\n",
    "    \"\"\"\n",
    "\n",
    "    # The initial position is the origin\n",
    "    position = np.zeros((N, M, dims))\n",
    "    # Random walks\n",
    "    for i in range(1, N):\n",
    "        for w in range(M):\n",
    "            dr = delta * np.random.randint(0, 2, size=dims) * 2 - 1\n",
    "            position[i, w] = position[i - 1, w] + dr\n",
    "    return position\n"
   ]
  },
  {
   "cell_type": "markdown",
   "metadata": {},
   "source": [
    "The first execution of the code is already very fast"
   ]
  },
  {
   "cell_type": "code",
   "execution_count": 46,
   "metadata": {},
   "outputs": [
    {
     "name": "stdout",
     "output_type": "stream",
     "text": [
      "CPU times: user 35.4 ms, sys: 9.43 ms, total: 44.8 ms\n",
      "Wall time: 51.8 ms\n"
     ]
    }
   ],
   "source": [
    "%%time\n",
    "walks = numba_random_walker(100,1000)"
   ]
  },
  {
   "cell_type": "markdown",
   "metadata": {},
   "source": [
    "the second execution is even faster"
   ]
  },
  {
   "cell_type": "code",
   "execution_count": 47,
   "metadata": {},
   "outputs": [
    {
     "name": "stdout",
     "output_type": "stream",
     "text": [
      "CPU times: user 39 ms, sys: 3.38 ms, total: 42.4 ms\n",
      "Wall time: 45.3 ms\n"
     ]
    }
   ],
   "source": [
    "%%time\n",
    "walks = numba_random_walker(100,1000)"
   ]
  },
  {
   "cell_type": "markdown",
   "metadata": {},
   "source": [
    "Wanna go faster and do not mind writing a little Fortran code yourself? Try `f2py-jit`!"
   ]
  },
  {
   "cell_type": "code",
   "execution_count": 10,
   "metadata": {},
   "outputs": [],
   "source": [
    "from f2py_jit import jit\n",
    "\n",
    "code = \"\"\"\n",
    "subroutine rw(position, delta)\n",
    "  real(8), intent(inout) :: position(:, :, :)\n",
    "  real(8), intent(in) :: delta\n",
    "  real(8) :: dr(size(position, 3))\n",
    "  do i = 1, size(position, 1)\n",
    "    do j = 1, size(position, 2)\n",
    "      call random_number(dr)\n",
    "      dr = delta * (floor(dr*2) - 1)\n",
    "      position(i, j, :) = position(i-1, j, :) + dr\n",
    "     end do\n",
    "  end do\n",
    "end subroutine rw\n",
    "\"\"\"\n",
    "\n",
    "def f2py_random_walker(N, M, dims=1):\n",
    "    import numpy\n",
    "    position = numpy.zeros((N, M, dims), order='F')\n",
    "    f90 = jit(code)\n",
    "    f90.rw(position, 1.0)"
   ]
  },
  {
   "cell_type": "code",
   "execution_count": 11,
   "metadata": {},
   "outputs": [
    {
     "name": "stdout",
     "output_type": "stream",
     "text": [
      "CPU times: user 3.58 ms, sys: 3.73 ms, total: 7.32 ms\n",
      "Wall time: 884 ms\n"
     ]
    }
   ],
   "source": [
    "%%time\n",
    "walks = f2py_random_walker(100, 1000)    "
   ]
  },
  {
   "cell_type": "code",
   "execution_count": 12,
   "metadata": {},
   "outputs": [
    {
     "name": "stdout",
     "output_type": "stream",
     "text": [
      "CPU times: user 3.58 ms, sys: 0 ns, total: 3.58 ms\n",
      "Wall time: 3.14 ms\n"
     ]
    }
   ],
   "source": [
    "%%time\n",
    "walks = f2py_random_walker(100, 1000) "
   ]
  },
  {
   "cell_type": "markdown",
   "metadata": {},
   "source": [
    "This is appreciably faster than `numba`. Note that, like with numba, the first time the execution is slower."
   ]
  },
  {
   "cell_type": "markdown",
   "metadata": {},
   "source": [
    "How does this compare with Python's numerical library, `numpy`?\n",
    "\n",
    "The random walk sampler can indeed be written in a single lines of code using `numpy`:"
   ]
  },
  {
   "cell_type": "code",
   "execution_count": 75,
   "metadata": {},
   "outputs": [],
   "source": [
    "def numpy_random_walker(N, M, delta=1.0, dims=1):\n",
    "    \"\"\"\n",
    "    Simulates a random walk. Parameters:\n",
    "    - N: number of steps\n",
    "    - M: number fo walkers\n",
    "    - delta: size of one step (default=1)\n",
    "    - dims : number of dimensions (default=1)\n",
    "    \"\"\"\n",
    "    return np.cumsum(\n",
    "        delta * np.random.randint(0, 2, size=(N, M, dims)) * 2 - 1.0, axis=0\n",
    "    )\n"
   ]
  },
  {
   "cell_type": "markdown",
   "metadata": {},
   "source": [
    "We exploit the fact that `numpy` can perform cumulative sums rapidly over the array, and that one can specify the dimension along which to perform the sum with the parameter `axis`. In our case, the zeroth axis is the one that corresponds to time."
   ]
  },
  {
   "cell_type": "code",
   "execution_count": 81,
   "metadata": {},
   "outputs": [
    {
     "name": "stdout",
     "output_type": "stream",
     "text": [
      "CPU times: user 2.14 ms, sys: 1.25 ms, total: 3.39 ms\n",
      "Wall time: 1.73 ms\n"
     ]
    }
   ],
   "source": [
    "%%time\n",
    "walks = numpy_random_walker(100,1000)"
   ]
  },
  {
   "cell_type": "markdown",
   "metadata": {},
   "source": [
    "`numpy` provides an even faster solution, with a further speedup of a factor around 20, for a total speedup of about 1200 times with respect to the original naive code. "
   ]
  },
  {
   "cell_type": "markdown",
   "metadata": {},
   "source": [
    "In summary, we started with a naive Python code for a simulation of a d-dimensional random walk and accelerated it around 60 times with a few tweaks. But leveraging the vectorised operations of the numericla library provided an even larger benefit, allowign us to sample easily large numbers of walks.   \n",
    "\n",
    "Notice, also, that all the different versions of the code store the entire statistics of walks throught time, which becomes memory intensive for large numbers of time steps, number of walks or high dimensions."
   ]
  },
  {
   "cell_type": "markdown",
   "metadata": {},
   "source": [
    "### Summary of the algorithms\n",
    "\n",
    "Here below you can find the three main versions of the bare-bond random walk functions discussed above.\n",
    "\n",
    "`````{tab-set}\n",
    "````{tab-item} Naive Python \n",
    "```python\n",
    "def naive_random_walker(N, M, delta=1.0, dims=1):\n",
    "    \"\"\"\n",
    "    Simulates a random walk. Parameters:\n",
    "    - N: number of steps\n",
    "    - M: number fo walkers\n",
    "    - delta: size of one step (default=1)\n",
    "    - dims : number of dimensions (default=1)\n",
    "    \"\"\"\n",
    "\n",
    "    # The initial position is the origin\n",
    "    position = np.zeros((N, M, dims))\n",
    "    # Random walks\n",
    "    for i in range(1, N):\n",
    "        for w in range(M):\n",
    "            dr = delta * np.random.choice([-1, 1], size=dims)\n",
    "            position[i, w] = position[i - 1, w] + dr\n",
    "    return position\n",
    "```\n",
    "````\n",
    "````{tab-item} Numba\n",
    "```python\n",
    "@nb.njit\n",
    "def numba_random_walker(N, M, delta=1.0, dims=1):\n",
    "    \"\"\"\n",
    "    Simulates a random walk. Parameters:\n",
    "    - N: number of steps\n",
    "    - M: number fo walkers\n",
    "    - delta: size of one step (default=1)\n",
    "    - dims : number of dimensions (default=1)\n",
    "    \"\"\"\n",
    "\n",
    "    # The initial position is the origin\n",
    "    position = np.zeros((N, M, dims))\n",
    "    # Random walks\n",
    "    for i in range(1, N):\n",
    "        for w in range(M):\n",
    "            dr = delta * np.random.randint(0, 2, size=dims) * 2 - 1\n",
    "            position[i, w] = position[i - 1, w] + dr\n",
    "    return position\n",
    "```\n",
    "````\n",
    "````{tab-item} Numpy\n",
    "```python\n",
    "def numpy_random_walker(N, M, delta=1.0, dims=1):\n",
    "    \"\"\"\n",
    "    Simulates a random walk. Parameters:\n",
    "    - N: number of steps\n",
    "    - M: number fo walkers\n",
    "    - delta: size of one step (default=1)\n",
    "    - dims : number of dimensions (default=1)\n",
    "    \"\"\"\n",
    "    return np.cumsum(np.random.randint(0, 2, size=(N, M, dims)) * 2 - 1.0, axis=0)\n",
    "\n",
    "```\n",
    "````\n",
    "\n",
    "\n",
    "`````"
   ]
  },
  {
   "cell_type": "markdown",
   "metadata": {},
   "source": [
    "## Particle simulations and random walks\n",
    "\n",
    "andom walks provide a mathematical and numerical framework to model a variety of problems, such as the movement of molecules in a liquid, fluctuations of stock prices, the path of an animal looking for food, and the spread of diseases in a population.\n",
    "\n",
    "In this book we focus on liquids. It is pedagogical to explore how we can embed our knowledge of random walks in a framework for particle based simulations of liquids that we will use through the text.\n",
    "\n",
    "We leverage the python model `atooms`. This provides a simplified interface to paritcle based simulations with various dynamics. Interestingly, it also allows us to provide arbritrary dynamics to simulate a given model. \n",
    "\n",
    "Here we test this idea in the case of random walks.\n"
   ]
  },
  {
   "cell_type": "markdown",
   "metadata": {},
   "source": [
    "### Brief introduction to `atooms`\n",
    "\n",
    "`atooms` is object oriented: it contains objects with attributes and methods that allow us to access and modify the properties of the objects themselves and that also allow the objects to communicate with one another.\n",
    "\n",
    "`atooms` has one key object: it is the `Simulation` object, which contains all the interesting properties of a particles-based simulation, including the spatial domain of the simulation (i.e. the simulation *box*)"
   ]
  },
  {
   "cell_type": "code",
   "execution_count": null,
   "metadata": {},
   "outputs": [],
   "source": [
    "import numpy as np\n",
    "\n",
    "\n",
    "class RandomWalk(object):\n",
    "    def __init__(self, system, delta=1.0):\n",
    "        self.system = system\n",
    "        self.delta = delta\n",
    "\n",
    "    def run(self, steps):\n",
    "        for i in range(steps):\n",
    "            for p in self.system.particle:\n",
    "                dr = numpy.array([random() - 0.5, random() - 0.5, random() - 0.5])\n",
    "                dr *= self.delta\n",
    "                p.position += dr\n"
   ]
  }
 ],
 "metadata": {
  "kernelspec": {
   "display_name": "Python 3 (ipykernel)",
   "language": "python",
   "name": "python3"
  },
  "language_info": {
   "codemirror_mode": {
    "name": "ipython",
    "version": 3
   },
   "file_extension": ".py",
   "mimetype": "text/x-python",
   "name": "python",
   "nbconvert_exporter": "python",
   "pygments_lexer": "ipython3",
   "version": "3.8.10"
  }
 },
 "nbformat": 4,
 "nbformat_minor": 2
}
