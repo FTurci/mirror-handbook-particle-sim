{
 "cells": [
  {
   "cell_type": "markdown",
   "metadata": {},
   "source": [
    "# &#x2699; Efficient random walks"
   ]
  },
  {
   "cell_type": "markdown",
   "metadata": {},
   "source": [
    "## Bare-bone random walks\n",
    "\n",
    "### Profiling the pure Python code\n",
    "\n",
    "We have seen [earlier](rw) a simple implementation of random walks in Python."
   ]
  },
  {
   "cell_type": "code",
   "execution_count": 1,
   "metadata": {},
   "outputs": [],
   "source": [
    "import numpy as np\n",
    "\n",
    "\n",
    "def naive_random_walker(N, M, delta=1.0, dims=1):\n",
    "    \"\"\"\n",
    "    Simulates a random walk. Parameters:\n",
    "    - N: number of steps\n",
    "    - M: number fo walkers\n",
    "    - delta: size of one step (default=1)\n",
    "    - dims : number of dimensions (default=1)\n",
    "    \"\"\"\n",
    "\n",
    "    # The initial position is the origin\n",
    "    position = np.zeros((N, M, dims))\n",
    "    # Random walks\n",
    "    for i in range(1, N):\n",
    "        for w in range(M):\n",
    "            dr = delta * np.random.choice([-1, 1], size=dims)\n",
    "            position[i, w] = position[i - 1, w] + dr\n",
    "    return position\n"
   ]
  },
  {
   "cell_type": "markdown",
   "metadata": {},
   "source": [
    "To inspect the performance of the code, we can use the **profiler** included in jupyter notebooks. \n",
    "\n",
    "This is invoked via a so-called *magic* command `prun`, prepended in front of teh function. We also use the optional argument `-s cumulative` to sort the output in terms of the cumulative time spent in different parts of the code."
   ]
  },
  {
   "cell_type": "code",
   "execution_count": 2,
   "metadata": {},
   "outputs": [
    {
     "name": "stdout",
     "output_type": "stream",
     "text": [
      " "
     ]
    },
    {
     "name": "stdout",
     "output_type": "stream",
     "text": [
      "         1881005 function calls in 5.601 seconds\n",
      "\n",
      "   Ordered by: cumulative time\n",
      "\n",
      "   ncalls  tottime  percall  cumtime  percall filename:lineno(function)\n",
      "        1    0.000    0.000    5.601    5.601 {built-in method builtins.exec}\n",
      "        1    0.000    0.000    5.601    5.601 <string>:1(<module>)\n",
      "        1    0.840    0.840    5.601    5.601 2149943443.py:4(naive_random_walker)\n",
      "    99000    1.342    0.000    4.760    0.000 {method 'choice' of 'numpy.random.mtrand.RandomState' objects}\n",
      "   198000    0.310    0.000    3.419    0.000 <__array_function__ internals>:177(prod)\n",
      "   198000    0.183    0.000    3.057    0.000 {built-in method numpy.core._multiarray_umath.implement_array_function}\n",
      "   198000    0.333    0.000    2.874    0.000 fromnumeric.py:2955(prod)\n",
      "   198000    0.691    0.000    2.541    0.000 fromnumeric.py:69(_wrapreduction)\n",
      "   198000    1.258    0.000    1.258    0.000 {method 'reduce' of 'numpy.ufunc' objects}\n",
      "   198000    0.322    0.000    0.322    0.000 {built-in method builtins.getattr}\n",
      "   198000    0.221    0.000    0.221    0.000 fromnumeric.py:70(<dictcomp>)\n",
      "   198000    0.051    0.000    0.051    0.000 fromnumeric.py:2950(_prod_dispatcher)\n",
      "   198000    0.049    0.000    0.049    0.000 {method 'items' of 'dict' objects}\n",
      "        1    0.001    0.001    0.001    0.001 {built-in method numpy.zeros}\n",
      "        1    0.000    0.000    0.000    0.000 {method 'disable' of '_lsprof.Profiler' objects}"
     ]
    }
   ],
   "source": [
    "%prun -s cumulative naive_random_walker(100,1000)"
   ]
  },
  {
   "cell_type": "markdown",
   "metadata": {},
   "source": [
    "The first three lines are not interesting as they refer to the function object itself.\n",
    "The fourth item is immediately interesting as it refers to `method 'choice' of 'numpy.random.mtrand.RandomState'`. Clearly, the way we are generating the random steps is time-consuming, as we are picking from a Python list of two elements.\n",
    "\n",
    "Such high-level calculations are typically  not performing well. We can therefore improve the performance of the code by considering an alternative way to generate lists of arrays such as `[-1,1,..]` in $d$ dimensions.\n",
    "\n",
    "The simplest option is to use another function from `numpy` leveraging a paritcle to spin mapping that is common in physics.\n",
    "\n",
    "Suppose that $n$ is a variable describing the occupation number of a site on a lattice, so that $n=0,1$. If we want to map empty sites to down spins and filled sites to up spins we can perform a chage of variable\n",
    "\n",
    "$$s = 2n-1$$\n",
    "\n",
    "so that $s=-1,1$ for $n=0,1$.\n",
    "\n",
    "The same idea can be employed to our code, where we can replace the call of `np.random.choice` with `np.random.randint(0,2)*2-1`"
   ]
  },
  {
   "cell_type": "code",
   "execution_count": 3,
   "metadata": {},
   "outputs": [],
   "source": [
    "def improved_random_walker(N, M, delta=1.0, dims=1):\n",
    "    \"\"\"\n",
    "    Simulates a random walk. Parameters:\n",
    "    - N: number of steps\n",
    "    - M: number fo walkers\n",
    "    - delta: size of one step (default=1)\n",
    "    - dims : number of dimensions (default=1)\n",
    "    \"\"\"\n",
    "\n",
    "    # The initial position is the origin\n",
    "    position = np.zeros((N, M, dims))\n",
    "    # Random walks\n",
    "    for i in range(1, N):\n",
    "        for w in range(M):\n",
    "            dr = delta * np.random.randint(0, 2, size=dims) * 2 - 1\n",
    "            position[i, w] = position[i - 1, w] + dr\n",
    "    return position\n"
   ]
  },
  {
   "cell_type": "markdown",
   "metadata": {},
   "source": [
    "We can compare the two using the `%%time` magic command"
   ]
  },
  {
   "cell_type": "code",
   "execution_count": 109,
   "metadata": {},
   "outputs": [
    {
     "name": "stdout",
     "output_type": "stream",
     "text": [
      "CPU times: user 2.81 s, sys: 20.1 ms, total: 2.83 s\n",
      "Wall time: 2.85 s\n"
     ]
    }
   ],
   "source": [
    "%%time \n",
    "pos = naive_random_walker(100,1000)"
   ]
  },
  {
   "cell_type": "code",
   "execution_count": 5,
   "metadata": {},
   "outputs": [
    {
     "name": "stdout",
     "output_type": "stream",
     "text": [
      "CPU times: user 2.86 s, sys: 25 ms, total: 2.89 s\n",
      "Wall time: 3 s\n"
     ]
    }
   ],
   "source": [
    "%%time \n",
    "pos = improved_random_walker(100,1000)"
   ]
  },
  {
   "cell_type": "markdown",
   "metadata": {},
   "source": [
    "The `naive` code is about 40% percent slower than the `improved` code.\n",
    "\n",
    "Can we do better?"
   ]
  },
  {
   "cell_type": "markdown",
   "metadata": {},
   "source": [
    "The code entails two `for` loops. In Python, for loops are slow and nested loops are particularly so.\n",
    "\n",
    "The simplest way to accelerate the code is to leverage the strength of just in time compilers like [`numba`](https://numba.pydata.org). \n",
    "\n",
    "\n",
    "### Python with Numba\n",
    "\n",
    "You can install `numba` via "
   ]
  },
  {
   "cell_type": "code",
   "execution_count": 6,
   "metadata": {},
   "outputs": [
    {
     "name": "stdout",
     "output_type": "stream",
     "text": [
      "Requirement already satisfied: numba in /Users/francesco/Repos/handbook/env/lib/python3.11/site-packages (0.57.1)\n",
      "Requirement already satisfied: llvmlite<0.41,>=0.40.0dev0 in /Users/francesco/Repos/handbook/env/lib/python3.11/site-packages (from numba) (0.40.1)\n",
      "Requirement already satisfied: numpy<1.25,>=1.21 in /Users/francesco/Repos/handbook/env/lib/python3.11/site-packages (from numba) (1.24.4)\n",
      "\n",
      "\u001b[1m[\u001b[0m\u001b[34;49mnotice\u001b[0m\u001b[1;39;49m]\u001b[0m\u001b[39;49m A new release of pip available: \u001b[0m\u001b[31;49m22.3.1\u001b[0m\u001b[39;49m -> \u001b[0m\u001b[32;49m23.2.1\u001b[0m\n",
      "\u001b[1m[\u001b[0m\u001b[34;49mnotice\u001b[0m\u001b[1;39;49m]\u001b[0m\u001b[39;49m To update, run: \u001b[0m\u001b[32;49mpip install --upgrade pip\u001b[0m\n"
     ]
    }
   ],
   "source": [
    "! pip install numba"
   ]
  },
  {
   "cell_type": "markdown",
   "metadata": {},
   "source": [
    "`numba` accelerates the code through a clever translation of the Python code into `C/C++` code which is compiled on-the fly. This means that the first execution of the code can be slow (as pre-compilation occurs), but the second and following executions will benefit from the `C` translation.\n",
    "\n",
    "For the translation to take place, `numba` needs to correctly infer the variable types used in the code. \n",
    "\n",
    "A black-box usage of numba is possible and is straighforward. It requires the addition of a **decorator** `@numba.njit` in fornt of the function that we want to accelerate."
   ]
  },
  {
   "cell_type": "code",
   "execution_count": 121,
   "metadata": {},
   "outputs": [],
   "source": [
    "import numba as nb\n",
    "\n",
    "\n",
    "@nb.njit\n",
    "def numba_random_walker(N, M, delta=1.0, dims=1):\n",
    "    \"\"\"\n",
    "    Simulates a random walk. Parameters:\n",
    "    - N: number of steps\n",
    "    - M: number fo walkers\n",
    "    - delta: size of one step (default=1)\n",
    "    - dims : number of dimensions (default=1)\n",
    "    \"\"\"\n",
    "\n",
    "    # The initial position is the origin\n",
    "    position = np.zeros((N, M, dims))\n",
    "    # Random walks\n",
    "    for i in range(1, N):\n",
    "        for w in range(M):\n",
    "            dr = delta * np.random.randint(0, 2, size=dims) * 2 - 1\n",
    "            position[i, w] = position[i - 1, w] + dr\n",
    "    return position\n"
   ]
  },
  {
   "cell_type": "markdown",
   "metadata": {},
   "source": [
    "The first execution of the code is already very fast"
   ]
  },
  {
   "cell_type": "code",
   "execution_count": 122,
   "metadata": {},
   "outputs": [
    {
     "name": "stdout",
     "output_type": "stream",
     "text": [
      "CPU times: user 276 ms, sys: 34.8 ms, total: 311 ms\n",
      "Wall time: 360 ms\n"
     ]
    }
   ],
   "source": [
    "%%time\n",
    "walks = numba_random_walker(100,1000)"
   ]
  },
  {
   "cell_type": "markdown",
   "metadata": {},
   "source": [
    "the second execution is even faster (notice that we use `%%timeit` to get an accurate measurement of the execution time from multiple runs)"
   ]
  },
  {
   "cell_type": "code",
   "execution_count": 123,
   "metadata": {},
   "outputs": [
    {
     "name": "stdout",
     "output_type": "stream",
     "text": [
      "36.7 ms ± 3.92 ms per loop (mean ± std. dev. of 7 runs, 10 loops each)\n"
     ]
    }
   ],
   "source": [
    "%%timeit\n",
    "walks = numba_random_walker(100,1000)"
   ]
  },
  {
   "cell_type": "markdown",
   "metadata": {},
   "source": [
    "In fact, `numba` also allows us to easily paralellise the inner loop, where $M$ **independent** walkers are considered. This is done via the parameter `parallel=True`: "
   ]
  },
  {
   "cell_type": "code",
   "execution_count": 124,
   "metadata": {},
   "outputs": [],
   "source": [
    "@nb.njit(parallel=True)\n",
    "def numba_random_walker_parallel(N, M, delta=1.0, dims=1):\n",
    "    \"\"\"\n",
    "    Simulates a random walk. Parameters:\n",
    "    - N: number of steps\n",
    "    - M: number fo walkers\n",
    "    - delta: size of one step (default=1)\n",
    "    - dims : number of dimensions (default=1)\n",
    "    \"\"\"\n",
    "\n",
    "    # The initial position is the origin\n",
    "    position = np.zeros((N, M, dims))\n",
    "    # Random walks\n",
    "    for i in range(1, N):\n",
    "        for w in nb.prange(M):\n",
    "            dr = delta * np.random.randint(0, 2, size=dims) * 2 - 1\n",
    "            position[i, w] = position[i - 1, w] + dr\n",
    "    return position\n"
   ]
  },
  {
   "cell_type": "markdown",
   "metadata": {},
   "source": [
    "First run (slower)"
   ]
  },
  {
   "cell_type": "code",
   "execution_count": 126,
   "metadata": {},
   "outputs": [
    {
     "name": "stdout",
     "output_type": "stream",
     "text": [
      "3.52 ms ± 193 µs per loop (mean ± std. dev. of 7 runs, 100 loops each)\n"
     ]
    }
   ],
   "source": [
    "%%time\n",
    "walks = numba_random_walker_parallel(100,1000)"
   ]
  },
  {
   "cell_type": "markdown",
   "metadata": {},
   "source": [
    "Ans second run"
   ]
  },
  {
   "cell_type": "code",
   "execution_count": 127,
   "metadata": {},
   "outputs": [
    {
     "name": "stdout",
     "output_type": "stream",
     "text": [
      "3.71 ms ± 177 µs per loop (mean ± std. dev. of 7 runs, 100 loops each)\n"
     ]
    }
   ],
   "source": [
    "%%timeit\n",
    "walks = numba_random_walker_parallel(100,1000)"
   ]
  },
  {
   "cell_type": "markdown",
   "metadata": {},
   "source": [
    "which should be significantly faster on any multicore machine ( order a few milliseconds)."
   ]
  },
  {
   "cell_type": "markdown",
   "metadata": {},
   "source": [
    "### Python with Fortran\n",
    "\n",
    "An alternative to `numba`'s just-in-time compiler is provided by `f2py-jit`, which leverages the Fortran-to-Python compiler [`f2py`](https://numpy.org/doc/stable/f2py/) (a tool from `numpy`). Fortran is a compiled programming language historically popular in scientific computing that has been used (together with C) to write the fast numerical libraries of Python, such as `numpy` and `scipy`.\n",
    "\n",
    "Installing `f2py-jit` is easy"
   ]
  },
  {
   "cell_type": "code",
   "execution_count": 33,
   "metadata": {},
   "outputs": [
    {
     "name": "stdout",
     "output_type": "stream",
     "text": [
      "Requirement already satisfied: f2py_jit in /Users/francesco/Repos/handbook/env/lib/python3.11/site-packages (0.9.2)\n",
      "Requirement already satisfied: f90wrap~=0.2.12 in /Users/francesco/Repos/handbook/env/lib/python3.11/site-packages (from f2py_jit) (0.2.13)\n",
      "Requirement already satisfied: numpy in /Users/francesco/Repos/handbook/env/lib/python3.11/site-packages (from f2py_jit) (1.24.4)\n",
      "\n",
      "\u001b[1m[\u001b[0m\u001b[34;49mnotice\u001b[0m\u001b[1;39;49m]\u001b[0m\u001b[39;49m A new release of pip available: \u001b[0m\u001b[31;49m22.3.1\u001b[0m\u001b[39;49m -> \u001b[0m\u001b[32;49m23.2.1\u001b[0m\n",
      "\u001b[1m[\u001b[0m\u001b[34;49mnotice\u001b[0m\u001b[1;39;49m]\u001b[0m\u001b[39;49m To update, run: \u001b[0m\u001b[32;49mpip install --upgrade pip\u001b[0m\n"
     ]
    }
   ],
   "source": [
    "! pip install f2py_jit"
   ]
  },
  {
   "cell_type": "markdown",
   "metadata": {},
   "source": [
    "To use `f2py-jit`, one writes Fortran funciton (`subroutine`) separately, encodes it in a string and passes it to the compiler `jit`. This produces an object containing a method with the same name of the Fortran subroutine. wrapping this function provides a usable Python funciton with the Fortran code under the hood. "
   ]
  },
  {
   "cell_type": "code",
   "execution_count": 44,
   "metadata": {},
   "outputs": [],
   "source": [
    "from f2py_jit import jit\n",
    "\n",
    "code = \"\"\"\n",
    "subroutine rw(position, delta)\n",
    "  real(8), intent(inout) :: position(:, :, :)\n",
    "  real(8), intent(in) :: delta\n",
    "  real(8) :: dr(size(position, 3))\n",
    "  do i = 1, size(position, 1)\n",
    "    do j = 1, size(position, 2)\n",
    "      call random_number(dr)\n",
    "      dr = delta * (floor(dr*2) - 1)\n",
    "      position(i, j, :) = position(i-1, j, :) + dr\n",
    "     end do\n",
    "  end do\n",
    "end subroutine rw\n",
    "\"\"\"\n",
    "\n",
    "\n",
    "def f2py_random_walker(N, M, dims=1):\n",
    "    import numpy\n",
    "\n",
    "    position = numpy.zeros((N, M, dims), order=\"F\")\n",
    "    f90 = jit(code)\n",
    "    f90.rw(position, 1.0)\n",
    "    return position\n"
   ]
  },
  {
   "cell_type": "code",
   "execution_count": 45,
   "metadata": {},
   "outputs": [
    {
     "name": "stdout",
     "output_type": "stream",
     "text": [
      "CPU times: user 3.64 ms, sys: 1.82 ms, total: 5.46 ms\n",
      "Wall time: 5.72 ms\n"
     ]
    }
   ],
   "source": [
    "%%time\n",
    "walks = f2py_random_walker(100, 1000)    "
   ]
  },
  {
   "cell_type": "code",
   "execution_count": 55,
   "metadata": {},
   "outputs": [
    {
     "name": "stdout",
     "output_type": "stream",
     "text": [
      "2.66 ms ± 608 µs per loop (mean ± std. dev. of 7 runs, 100 loops each)\n"
     ]
    }
   ],
   "source": [
    "%%time\n",
    "walks = f2py_random_walker(100, 1000) "
   ]
  },
  {
   "cell_type": "markdown",
   "metadata": {},
   "source": [
    "This is appreciably faster than `numba`. Note that, like with numba, the first time the execution is slower."
   ]
  },
  {
   "cell_type": "markdown",
   "metadata": {},
   "source": [
    "### Numpy's vectorised solution\n",
    "\n",
    "How does these different approaches compare with Python's numerical library, `numpy`?\n",
    "\n",
    "The random walk sampler can indeed be written in a single line of code using `numpy`:"
   ]
  },
  {
   "cell_type": "code",
   "execution_count": 48,
   "metadata": {},
   "outputs": [],
   "source": [
    "def numpy_random_walker(N, M, delta=1.0, dims=1):\n",
    "    \"\"\"\n",
    "    Simulates a random walk. Parameters:\n",
    "    - N: number of steps\n",
    "    - M: number fo walkers\n",
    "    - delta: size of one step (default=1)\n",
    "    - dims : number of dimensions (default=1)\n",
    "    \"\"\"\n",
    "    return np.cumsum(\n",
    "        delta * np.random.randint(0, 2, size=(N, M, dims)) * 2 - 1.0, axis=0\n",
    "    )\n"
   ]
  },
  {
   "cell_type": "markdown",
   "metadata": {},
   "source": [
    "We exploit the fact that `numpy` can perform cumulative sums rapidly over the array, and that one can specify the dimension along which to perform the sum with the parameter `axis`. In our case, the zeroth axis is the one that corresponds to time."
   ]
  },
  {
   "cell_type": "code",
   "execution_count": 54,
   "metadata": {},
   "outputs": [
    {
     "name": "stdout",
     "output_type": "stream",
     "text": [
      "898 µs ± 17.7 µs per loop (mean ± std. dev. of 7 runs, 1,000 loops each)\n"
     ]
    }
   ],
   "source": [
    "%%time\n",
    "walks = numpy_random_walker(100,1000)"
   ]
  },
  {
   "cell_type": "markdown",
   "metadata": {},
   "source": [
    "`numpy` provides an even faster solution, with a further speedup of a factor around 20, for a total speedup of about 1200 times with respect to the original naive code. "
   ]
  },
  {
   "cell_type": "markdown",
   "metadata": {},
   "source": [
    "In summary, we started with a naive Python code for a simulation of a d-dimensional random walk and accelerated it around 60 times with a few tweaks. But leveraging the vectorised operations of the numericla library provided an even larger benefit, allowign us to sample easily large numbers of walks.   \n",
    "\n",
    "Notice, also, that all the different versions of the code store the entire statistics of walks throught time, which becomes memory intensive for large numbers of time steps, number of walks or high dimensions."
   ]
  },
  {
   "cell_type": "markdown",
   "metadata": {},
   "source": [
    "### Summary of the algorithms\n",
    "\n",
    "Here below you can find the three main versions of the bare-bond random walk functions discussed above.\n",
    "\n",
    "`````{tab-set}\n",
    "````{tab-item} Naive Python \n",
    "```python\n",
    "def naive_random_walker(N, M, delta=1.0, dims=1):\n",
    "    \"\"\"\n",
    "    Simulates a random walk. Parameters:\n",
    "    - N: number of steps\n",
    "    - M: number fo walkers\n",
    "    - delta: size of one step (default=1)\n",
    "    - dims : number of dimensions (default=1)\n",
    "    \"\"\"\n",
    "\n",
    "    # The initial position is the origin\n",
    "    position = np.zeros((N, M, dims))\n",
    "    # Random walks\n",
    "    for i in range(1, N):\n",
    "        for w in range(M):\n",
    "            dr = delta * np.random.choice([-1, 1], size=dims)\n",
    "            position[i, w] = position[i - 1, w] + dr\n",
    "    return position\n",
    "```\n",
    "````\n",
    "````{tab-item} Numba\n",
    "```python\n",
    "@nb.njit\n",
    "def numba_random_walker(N, M, delta=1.0, dims=1):\n",
    "    \"\"\"\n",
    "    Simulates a random walk. Parameters:\n",
    "    - N: number of steps\n",
    "    - M: number fo walkers\n",
    "    - delta: size of one step (default=1)\n",
    "    - dims : number of dimensions (default=1)\n",
    "    \"\"\"\n",
    "\n",
    "    # The initial position is the origin\n",
    "    position = np.zeros((N, M, dims))\n",
    "    # Random walks\n",
    "    for i in range(1, N):\n",
    "        for w in range(M):\n",
    "            dr = delta * np.random.randint(0, 2, size=dims) * 2 - 1\n",
    "            position[i, w] = position[i - 1, w] + dr\n",
    "    return position\n",
    "```\n",
    "````\n",
    "````{tab-item} Numpy\n",
    "```python\n",
    "def numpy_random_walker(N, M, delta=1.0, dims=1):\n",
    "    \"\"\"\n",
    "    Simulates a random walk. Parameters:\n",
    "    - N: number of steps\n",
    "    - M: number fo walkers\n",
    "    - delta: size of one step (default=1)\n",
    "    - dims : number of dimensions (default=1)\n",
    "    \"\"\"\n",
    "    return np.cumsum(delta*(np.random.randint(0, 2, size=(N, M, dims)) * 2 - 1.0), axis=0)\n",
    "\n",
    "```\n",
    "````\n",
    "````{tab-item} Fortran\n",
    "```fortran\n",
    "subroutine rw(position, delta)\n",
    "  real(8), intent(inout) :: position(:, :, :)\n",
    "  real(8), intent(in) :: delta\n",
    "  real(8) :: dr(size(position, 3))\n",
    "  do i = 1, size(position, 1)\n",
    "    do j = 1, size(position, 2)\n",
    "      call random_number(dr)\n",
    "      dr = delta * (floor(dr*2) - 1)\n",
    "      position(i, j, :) = position(i-1, j, :) + dr\n",
    "     end do\n",
    "  end do\n",
    "end subroutine rw\n",
    "```\n",
    "\n",
    "`````"
   ]
  },
  {
   "cell_type": "markdown",
   "metadata": {},
   "source": [
    "## Particle simulations and random walks\n",
    "\n",
    "andom walks provide a mathematical and numerical framework to model a variety of problems, such as the movement of molecules in a liquid, fluctuations of stock prices, the path of an animal looking for food, and the spread of diseases in a population.\n",
    "\n",
    "In this book we focus on liquids. It is pedagogical to explore how we can embed our knowledge of random walks in a framework for particle based simulations of liquids that we will use through the text.\n",
    "\n",
    "We leverage the python model `atooms`. This provides a simplified interface to paritcle based simulations with various dynamics. Interestingly, it also allows us to provide arbritrary dynamics to simulate a given model. \n",
    "\n",
    "Here we test this idea in the case of random walks.\n"
   ]
  },
  {
   "cell_type": "markdown",
   "metadata": {},
   "source": [
    "### Brief introduction to `atooms`\n",
    "\n",
    "`atooms` is a high-level package to handle particle based simulations (see [full documentation](https://atooms.frama.io/atooms/tutorial/)).\n",
    "\n",
    "`atooms` is object oriented: it contains objects with *attributes* and *methods* that allow us to access and modify the properties of the objects themselves and that also allow the objects to communicate with one another.\n"
   ]
  },
  {
   "cell_type": "markdown",
   "metadata": {},
   "source": [
    "```{admonition} Key objects \n",
    ":class: key\n",
    "- `System` contains the key information about our physical system. This includes:\n",
    "    - the `particle` attribute, containing the degrees of freedom of al particles (e.g. positions and velocities)\n",
    "    - the `cell` attribute, referring to the spatial domain of the simulation\n",
    "    - physical properties of the system such as its `temperature` or `potential_energy`\n",
    "- `Simulation` is a high-level class encapsulating the main workflow of a numerical calculation, such as collecting snapshots of the system at regular time.\n",
    "- `Backend` a combined Python class containing references to the system and the specifications for its dynamical evolution.\n",
    "```"
   ]
  },
  {
   "cell_type": "markdown",
   "metadata": {},
   "source": [
    "To design a custom dynamics (such as a collection of Brownian particles) we want to comply with the following schematic structure:"
   ]
  },
  {
   "cell_type": "markdown",
   "metadata": {},
   "source": [
    "```{mermaid}\n",
    "%%{init: {'theme': 'forest'}}%%\n",
    "flowchart LR\n",
    "    Simulation --> CustomBackend --> System\n",
    "```"
   ]
  },
  {
   "cell_type": "markdown",
   "metadata": {},
   "source": [
    "We start from designing a custom `Backend`. This a custom class containing **at least** two essential ingredients:\n",
    "\n",
    "- a `system` attribute to refer t the state of our system\n",
    "- a `run` method to prescribe a specific evolution (in this case, a random walk). It takes a single parameter `steps` referring to the number of steps we want to evolve the system for.\n",
    "\n",
    "We can therefore create a custom backend that implements the ideas we developed above. In its simplest form, it involves two for loops: a first one over time and teh second one over the particles."
   ]
  },
  {
   "cell_type": "code",
   "execution_count": 12,
   "metadata": {},
   "outputs": [],
   "source": [
    "import numpy as np\n",
    "\n",
    "\n",
    "class RandomWalkBackend(object):\n",
    "    def __init__(self, system, delta=1.0):\n",
    "        self.system = system\n",
    "        self.delta = delta\n",
    "\n",
    "    def run(self, steps):\n",
    "        for i in range(steps):\n",
    "            for p in self.system.particle:\n",
    "                dr = self.delta * (np.random.randint(0, 2) * 2.0 - 1.0)\n",
    "                p.position += dr\n"
   ]
  },
  {
   "cell_type": "markdown",
   "metadata": {},
   "source": [
    "To use the backend, we first construct a system, then wrap the backedn around it and finally generate a simulation from the backend."
   ]
  },
  {
   "cell_type": "code",
   "execution_count": 13,
   "metadata": {},
   "outputs": [],
   "source": [
    "from atooms.system import System\n",
    "from atooms.simulation import Simulation\n",
    "\n",
    "N = 1000\n",
    "L = 10\n",
    "ndim = 3\n",
    "#  set up N particles\n",
    "system = System(N=N)\n",
    "# assign the initial positions inside a cubic box of side L\n",
    "for p in system.particle:\n",
    "    p.position = np.random.uniform(0, L, size=ndim)\n",
    "\n",
    "simulation = Simulation(RandomWalkBackend(system))\n",
    "# run the simulation\n",
    "simulation.run(100)\n"
   ]
  },
  {
   "cell_type": "markdown",
   "metadata": {},
   "source": [
    "This minimal code performs the simulation, but we want to track some changes during the evolution. To do so, `atooms` employs the concept of `callbacks`: this are functions that are regularly called by the `Simulation` object to perform calculations on the `System`.\n",
    "\n",
    "They are defined as standard python functions with a specific first argument `sim` that stands for the simulation object itself.\n",
    "\n",
    "Let us write a callback to calculate the mean squared displacement:"
   ]
  },
  {
   "cell_type": "code",
   "execution_count": 14,
   "metadata": {},
   "outputs": [],
   "source": [
    "def msd_callback(sim, initial_position, db):\n",
    "    \"\"\" \"\n",
    "    Callback to compute the mean squared displacement.\n",
    "    \"\"\"\n",
    "    msd = 0.0\n",
    "    for i, p in enumerate(sim.system.particle):\n",
    "        dr = p.position - initial_position[i]\n",
    "        msd += np.sum(dr**2)\n",
    "    msd /= len(sim.system.particle)\n",
    "    db[sim.current_step] = msd\n"
   ]
  },
  {
   "cell_type": "markdown",
   "metadata": {},
   "source": [
    "To use the callback, we need to **add** it to the simulation object. Remark that we make use of the method `dump` from `system` to retrieve the array of initial position quickly."
   ]
  },
  {
   "cell_type": "code",
   "execution_count": 15,
   "metadata": {},
   "outputs": [],
   "source": [
    "msd_db = {}\n",
    "# interval to store the MSD\n",
    "dt_msd = 10\n",
    "simulation.add(msd_callback, dt_msd, initial_position=system.dump(\"pos\"), db=msd_db)\n",
    "simulation.run(1000)\n"
   ]
  },
  {
   "cell_type": "code",
   "execution_count": 16,
   "metadata": {},
   "outputs": [
    {
     "data": {
      "image/png": "[encoded data removed]",
      "text/plain": [
       "<Figure size 720x450 with 1 Axes>"
      ]
     },
     "metadata": {},
     "output_type": "display_data"
    }
   ],
   "source": [
    "import matplotlib.pyplot as plt\n",
    "\n",
    "# convert dict to array\n",
    "t, MSD = np.array(list(msd_db.keys())), np.array(list(msd_db.values()))\n",
    "# subtract the starting time and plot\n",
    "plt.loglog(t - t[0] + dt_msd, MSD)\n",
    "plt.xlabel(\"t\")\n",
    "plt.ylabel(\"MSD\")\n",
    "plt.show()\n"
   ]
  },
  {
   "cell_type": "markdown",
   "metadata": {},
   "source": [
    "### Accessing arrays of properties\n",
    "\n",
    "The above backend (and callback) are slow. This is because the particle positions are accessed via for loops over the particles. `atooms` also allows for a vectorised access to these properties via two system methods:\n",
    "- `dump(property)` which returns a copy of the property array.\n",
    "- `view(property)` which returns a view of the property array (i.e. a *pointer* to the same memory ).\n",
    "\n",
    "We can use these to avoid some for looks and make the code more `numpy`-like and achieve a very significant speedup."
   ]
  },
  {
   "cell_type": "code",
   "execution_count": 17,
   "metadata": {},
   "outputs": [],
   "source": [
    "class RandomWalkBackendFast(object):\n",
    "    def __init__(self, system, delta=1.0):\n",
    "        self.system = system\n",
    "        self.delta = delta\n",
    "\n",
    "    def run(self, steps):\n",
    "        position = self.system.view(\"pos\")\n",
    "        for k in range(steps):\n",
    "            dr = np.random.uniform(-0.5, 0.5, size=position.shape)\n",
    "            position += dr * self.delta\n",
    "\n",
    "\n",
    "def msd_callback_fast(sim, initial_position, db):\n",
    "    \"\"\" \"\n",
    "    Callback to compute the mean squared displacement.\n",
    "    \"\"\"\n",
    "    msd = 0.0\n",
    "    position = sim.system.view(\"pos\")\n",
    "    dr = position - initial_position\n",
    "    msd += np.sum(dr**2)\n",
    "    msd /= len(sim.system.particle)\n",
    "    db[sim.current_step] = msd\n",
    "\n",
    "\n",
    "system = System(N=N)\n",
    "# assign the initial positions inside a cubic box of side L\n",
    "positions = system.view(\"pos\")\n",
    "positions = np.random.uniform(0, L, size=system.view(\"pos\").shape)\n",
    "\n",
    "simulation = Simulation(RandomWalkBackendFast(system))\n",
    "\n",
    "msd_db = {}\n",
    "dt_msd = 10\n",
    "simulation.add(\n",
    "    msd_callback_fast, dt_msd, initial_position=system.dump(\"pos\"), db=msd_db\n",
    ")\n",
    "simulation.run(1000)\n"
   ]
  },
  {
   "cell_type": "code",
   "execution_count": 18,
   "metadata": {},
   "outputs": [
    {
     "data": {
      "image/png": "[encoded data removed]",
      "text/plain": [
       "<Figure size 720x450 with 1 Axes>"
      ]
     },
     "metadata": {},
     "output_type": "display_data"
    }
   ],
   "source": [
    "t, MSD = np.array(list(msd_db.keys())), np.array(list(msd_db.values()))\n",
    "# subtract the starting time and plot\n",
    "plt.loglog(t, MSD)\n",
    "plt.xlabel(\"t\")\n",
    "plt.ylabel(\"MSD\")\n",
    "plt.show()\n"
   ]
  }
 ],
 "metadata": {
  "kernelspec": {
   "display_name": "Python 3 (ipykernel)",
   "language": "python",
   "name": "python3"
  },
  "language_info": {
   "codemirror_mode": {
    "name": "ipython",
    "version": 3
   },
   "file_extension": ".py",
   "mimetype": "text/x-python",
   "name": "python",
   "nbconvert_exporter": "python",
   "pygments_lexer": "ipython3",
   "version": "3.8.10"
  }
 },
 "nbformat": 4,
 "nbformat_minor": 2
}
