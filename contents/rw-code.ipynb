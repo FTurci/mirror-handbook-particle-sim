{
 "cells": [
  {
   "cell_type": "markdown",
   "metadata": {},
   "source": [
    "# &#x2699; Efficient random walks"
   ]
  },
  {
   "cell_type": "markdown",
   "metadata": {},
   "source": [
    "## Bare-bone random walks\n",
    "\n",
    "We have seen [earlier](rw) a simple implementation of random walks in Python."
   ]
  },
  {
   "cell_type": "code",
   "execution_count": 1,
   "metadata": {},
   "outputs": [],
   "source": [
    "import numpy as np\n",
    "\n",
    "\n",
    "def naive_random_walker(N, M, delta=1.0, dims=1):\n",
    "    \"\"\"\n",
    "    Simulates a random walk. Parameters:\n",
    "    - N: number of steps\n",
    "    - M: number fo walkers\n",
    "    - delta: size of one step (default=1)\n",
    "    - dims : number of dimensions (default=1)\n",
    "    \"\"\"\n",
    "\n",
    "    # The initial position is the origin\n",
    "    position = np.zeros((N, M, dims))\n",
    "    # Random walks\n",
    "    for i in range(1, N):\n",
    "        for w in range(M):\n",
    "            dr = delta * np.random.choice([-1, 1], size=dims)\n",
    "            position[i, w] = position[i - 1, w] + dr\n",
    "    return position\n"
   ]
  },
  {
   "cell_type": "markdown",
   "metadata": {},
   "source": [
    "To inspect the performance of the code, we can use the **profiler** included in jupyter notebooks. \n",
    "\n",
    "This is invoked via a so-called *magic* command `prun`, prepended in front of teh function. We also use the optional argument `-s cumulative` to sort the output in terms of the cumulative time spent in different parts of the code."
   ]
  },
  {
   "cell_type": "code",
   "execution_count": 2,
   "metadata": {},
   "outputs": [
    {
     "name": "stdout",
     "output_type": "stream",
     "text": [
      " "
     ]
    },
    {
     "name": "stdout",
     "output_type": "stream",
     "text": [
      "         1881005 function calls in 7.033 seconds\n",
      "\n",
      "   Ordered by: cumulative time\n",
      "\n",
      "   ncalls  tottime  percall  cumtime  percall filename:lineno(function)\n",
      "        1    0.000    0.000    7.033    7.033 {built-in method builtins.exec}\n",
      "        1    0.000    0.000    7.033    7.033 <string>:1(<module>)\n",
      "        1    1.108    1.108    7.033    7.033 2149943443.py:4(naive_random_walker)\n",
      "    99000    1.784    0.000    5.925    0.000 {method 'choice' of 'numpy.random.mtrand.RandomState' objects}\n",
      "   198000    0.356    0.000    4.141    0.000 <__array_function__ internals>:177(prod)\n",
      "   198000    0.235    0.000    3.723    0.000 {built-in method numpy.core._multiarray_umath.implement_array_function}\n",
      "   198000    0.410    0.000    3.488    0.000 fromnumeric.py:2955(prod)\n",
      "   198000    0.926    0.000    3.078    0.000 fromnumeric.py:69(_wrapreduction)\n",
      "   198000    1.449    0.000    1.449    0.000 {method 'reduce' of 'numpy.ufunc' objects}\n",
      "   198000    0.378    0.000    0.378    0.000 {built-in method builtins.getattr}\n",
      "   198000    0.275    0.000    0.275    0.000 fromnumeric.py:70(<dictcomp>)\n",
      "   198000    0.062    0.000    0.062    0.000 fromnumeric.py:2950(_prod_dispatcher)\n",
      "   198000    0.051    0.000    0.051    0.000 {method 'items' of 'dict' objects}\n",
      "        1    0.000    0.000    0.000    0.000 {built-in method numpy.zeros}\n",
      "        1    0.000    0.000    0.000    0.000 {method 'disable' of '_lsprof.Profiler' objects}"
     ]
    }
   ],
   "source": [
    "%prun -s cumulative naive_random_walker(100,1000)"
   ]
  },
  {
   "cell_type": "markdown",
   "metadata": {},
   "source": [
    "The first three lines are not interesting as they refer to the function object itself.\n",
    "The fourth item is immediately interesting as it refers to `method 'choice' of 'numpy.random.mtrand.RandomState'`. Clearly, the way we are generating the random steps is time-consuming, as we are picking from a Python list of two elements.\n",
    "\n",
    "Such high-level calculations are typically  not performing well. We can therefore improve the performance of the code by considering an alternative way to generate lists of arrays such as `[-1,1,..]` in $d$ dimensions.\n",
    "\n",
    "The simplest option is to use another function from `numpy` leveraging a paritcle to spin mapping that is common in physics.\n",
    "\n",
    "Suppose that $n$ is a variable describing the occupation number of a site on a lattice, so that $n=0,1$. If we want to map empty sites to down spins and filled sites to up spins we can perform a chage of variable\n",
    "\n",
    "$$s = 2n-1$$\n",
    "\n",
    "so that $s=-1,1$ for $n=0,1$.\n",
    "\n",
    "The same idea can be employed to our code, where we can replace the call of `np.random.choice` with `np.random.randint(0,2)*2-1`"
   ]
  },
  {
   "cell_type": "code",
   "execution_count": 3,
   "metadata": {},
   "outputs": [],
   "source": [
    "def improved_random_walker(N, M, delta=1.0, dims=1):\n",
    "    \"\"\"\n",
    "    Simulates a random walk. Parameters:\n",
    "    - N: number of steps\n",
    "    - M: number fo walkers\n",
    "    - delta: size of one step (default=1)\n",
    "    - dims : number of dimensions (default=1)\n",
    "    \"\"\"\n",
    "\n",
    "    # The initial position is the origin\n",
    "    position = np.zeros((N, M, dims))\n",
    "    # Random walks\n",
    "    for i in range(1, N):\n",
    "        for w in range(M):\n",
    "            dr = delta * np.random.randint(0, 2, size=dims) * 2 - 1\n",
    "            position[i, w] = position[i - 1, w] + dr\n",
    "    return position\n"
   ]
  },
  {
   "cell_type": "markdown",
   "metadata": {},
   "source": [
    "We can compare the two using the `%%time` magic command"
   ]
  },
  {
   "cell_type": "code",
   "execution_count": 4,
   "metadata": {},
   "outputs": [
    {
     "name": "stdout",
     "output_type": "stream",
     "text": [
      "CPU times: user 4.31 s, sys: 72.7 ms, total: 4.38 s\n",
      "Wall time: 4.58 s\n"
     ]
    }
   ],
   "source": [
    "%%time \n",
    "pos = naive_random_walker(100,1000)"
   ]
  },
  {
   "cell_type": "code",
   "execution_count": 5,
   "metadata": {},
   "outputs": [
    {
     "name": "stdout",
     "output_type": "stream",
     "text": [
      "CPU times: user 3.9 s, sys: 98.2 ms, total: 3.99 s\n",
      "Wall time: 6.13 s\n"
     ]
    }
   ],
   "source": [
    "%%time \n",
    "pos = improved_random_walker(100,1000)"
   ]
  },
  {
   "cell_type": "markdown",
   "metadata": {},
   "source": [
    "The `naive` code is about 40% percent slower than the `improved` code.\n",
    "\n",
    "Can we do better?"
   ]
  },
  {
   "cell_type": "markdown",
   "metadata": {},
   "source": [
    "The code entails two `for` loops. In Python, for loops are slow and nested loops are particularly so.\n",
    "\n",
    "The simplest way to accelerate the code is to leverage the strength of just in time compilers like [`numba`](https://numba.pydata.org). \n",
    "\n",
    "You can install `numba` via "
   ]
  },
  {
   "cell_type": "code",
   "execution_count": 6,
   "metadata": {},
   "outputs": [
    {
     "name": "stdout",
     "output_type": "stream",
     "text": [
      "Requirement already satisfied: numba in /Users/francesco/Repos/handbook/env/lib/python3.11/site-packages (0.57.1)\n",
      "Requirement already satisfied: llvmlite<0.41,>=0.40.0dev0 in /Users/francesco/Repos/handbook/env/lib/python3.11/site-packages (from numba) (0.40.1)\n",
      "Requirement already satisfied: numpy<1.25,>=1.21 in /Users/francesco/Repos/handbook/env/lib/python3.11/site-packages (from numba) (1.24.4)\n",
      "\n",
      "\u001b[1m[\u001b[0m\u001b[34;49mnotice\u001b[0m\u001b[1;39;49m]\u001b[0m\u001b[39;49m A new release of pip available: \u001b[0m\u001b[31;49m22.3.1\u001b[0m\u001b[39;49m -> \u001b[0m\u001b[32;49m23.2.1\u001b[0m\n",
      "\u001b[1m[\u001b[0m\u001b[34;49mnotice\u001b[0m\u001b[1;39;49m]\u001b[0m\u001b[39;49m To update, run: \u001b[0m\u001b[32;49mpip install --upgrade pip\u001b[0m\n"
     ]
    }
   ],
   "source": [
    "! pip install numba"
   ]
  },
  {
   "cell_type": "markdown",
   "metadata": {},
   "source": [
    "`numba` accelerates the code through a clever translation of the Python code into `C/C++` code which is compiled on-the fly. This means that the first execution of the code can be slow (as pre-compilation occurs), but the second and following executions will benefit from the `C` translation.\n",
    "\n",
    "For the translation to take place, `numba` needs to correctly infer the variable types used in the code. \n",
    "\n",
    "A black-box usage of numba is possible and is straighforward. It requires the addition of a **decorator** `@numba.njit` in fornt of the function that we want to accelerate."
   ]
  },
  {
   "cell_type": "code",
   "execution_count": 7,
   "metadata": {},
   "outputs": [],
   "source": [
    "import numba as nb\n",
    "\n",
    "\n",
    "@nb.njit\n",
    "def numba_random_walker(N, M, delta=1.0, dims=1):\n",
    "    \"\"\"\n",
    "    Simulates a random walk. Parameters:\n",
    "    - N: number of steps\n",
    "    - M: number fo walkers\n",
    "    - delta: size of one step (default=1)\n",
    "    - dims : number of dimensions (default=1)\n",
    "    \"\"\"\n",
    "\n",
    "    # The initial position is the origin\n",
    "    position = np.zeros((N, M, dims))\n",
    "    # Random walks\n",
    "    for i in range(1, N):\n",
    "        for w in range(M):\n",
    "            dr = delta * np.random.randint(0, 2, size=dims) * 2 - 1\n",
    "            position[i, w] = position[i - 1, w] + dr\n",
    "    return position\n"
   ]
  },
  {
   "cell_type": "markdown",
   "metadata": {},
   "source": [
    "The first execution of the code is already very fast"
   ]
  },
  {
   "cell_type": "code",
   "execution_count": 8,
   "metadata": {},
   "outputs": [
    {
     "name": "stdout",
     "output_type": "stream",
     "text": [
      "CPU times: user 1.74 s, sys: 276 ms, total: 2.01 s\n",
      "Wall time: 2.05 s\n"
     ]
    }
   ],
   "source": [
    "%%time\n",
    "walks = numba_random_walker(100,1000)"
   ]
  },
  {
   "cell_type": "markdown",
   "metadata": {},
   "source": [
    "the second execution is even faster"
   ]
  },
  {
   "cell_type": "code",
   "execution_count": 9,
   "metadata": {},
   "outputs": [
    {
     "name": "stdout",
     "output_type": "stream",
     "text": [
      "CPU times: user 58.3 ms, sys: 2.35 ms, total: 60.6 ms\n",
      "Wall time: 65.1 ms\n"
     ]
    }
   ],
   "source": [
    "%%time\n",
    "walks = numba_random_walker(100,1000)"
   ]
  },
  {
   "cell_type": "markdown",
   "metadata": {},
   "source": [
    "How does this compare with Python's numerical library, `numpy`?\n",
    "\n",
    "The random walk sampler can indeed be written in a single lines of code using `numpy`:"
   ]
  },
  {
   "cell_type": "code",
   "execution_count": 10,
   "metadata": {},
   "outputs": [],
   "source": [
    "def numpy_random_walker(N, M, delta=1.0, dims=1):\n",
    "    \"\"\"\n",
    "    Simulates a random walk. Parameters:\n",
    "    - N: number of steps\n",
    "    - M: number fo walkers\n",
    "    - delta: size of one step (default=1)\n",
    "    - dims : number of dimensions (default=1)\n",
    "    \"\"\"\n",
    "    return np.cumsum(\n",
    "        delta * np.random.randint(0, 2, size=(N, M, dims)) * 2 - 1.0, axis=0\n",
    "    )\n"
   ]
  },
  {
   "cell_type": "markdown",
   "metadata": {},
   "source": [
    "We exploit the fact that `numpy` can perform cumulative sums rapidly over the array, and that one can specify the dimension along which to perform the sum with the parameter `axis`. In our case, the zeroth axis is the one that corresponds to time."
   ]
  },
  {
   "cell_type": "code",
   "execution_count": 11,
   "metadata": {},
   "outputs": [
    {
     "name": "stdout",
     "output_type": "stream",
     "text": [
      "CPU times: user 3.65 ms, sys: 5.44 ms, total: 9.09 ms\n",
      "Wall time: 14.5 ms\n"
     ]
    }
   ],
   "source": [
    "%%time\n",
    "walks = numpy_random_walker(100,1000)"
   ]
  },
  {
   "cell_type": "markdown",
   "metadata": {},
   "source": [
    "`numpy` provides an even faster solution, with a further speedup of a factor around 20, for a total speedup of about 1200 times with respect to the original naive code. "
   ]
  },
  {
   "cell_type": "markdown",
   "metadata": {},
   "source": [
    "In summary, we started with a naive Python code for a simulation of a d-dimensional random walk and accelerated it around 60 times with a few tweaks. But leveraging the vectorised operations of the numericla library provided an even larger benefit, allowign us to sample easily large numbers of walks.   \n",
    "\n",
    "Notice, also, that all the different versions of the code store the entire statistics of walks throught time, which becomes memory intensive for large numbers of time steps, number of walks or high dimensions."
   ]
  },
  {
   "cell_type": "markdown",
   "metadata": {},
   "source": [
    "### Summary of the algorithms\n",
    "\n",
    "Here below you can find the three main versions of the bare-bond random walk functions discussed above.\n",
    "\n",
    "`````{tab-set}\n",
    "````{tab-item} Naive Python \n",
    "```python\n",
    "def naive_random_walker(N, M, delta=1.0, dims=1):\n",
    "    \"\"\"\n",
    "    Simulates a random walk. Parameters:\n",
    "    - N: number of steps\n",
    "    - M: number fo walkers\n",
    "    - delta: size of one step (default=1)\n",
    "    - dims : number of dimensions (default=1)\n",
    "    \"\"\"\n",
    "\n",
    "    # The initial position is the origin\n",
    "    position = np.zeros((N, M, dims))\n",
    "    # Random walks\n",
    "    for i in range(1, N):\n",
    "        for w in range(M):\n",
    "            dr = delta * np.random.choice([-1, 1], size=dims)\n",
    "            position[i, w] = position[i - 1, w] + dr\n",
    "    return position\n",
    "```\n",
    "````\n",
    "````{tab-item} Numba\n",
    "```python\n",
    "@nb.njit\n",
    "def numba_random_walker(N, M, delta=1.0, dims=1):\n",
    "    \"\"\"\n",
    "    Simulates a random walk. Parameters:\n",
    "    - N: number of steps\n",
    "    - M: number fo walkers\n",
    "    - delta: size of one step (default=1)\n",
    "    - dims : number of dimensions (default=1)\n",
    "    \"\"\"\n",
    "\n",
    "    # The initial position is the origin\n",
    "    position = np.zeros((N, M, dims))\n",
    "    # Random walks\n",
    "    for i in range(1, N):\n",
    "        for w in range(M):\n",
    "            dr = delta * np.random.randint(0, 2, size=dims) * 2 - 1\n",
    "            position[i, w] = position[i - 1, w] + dr\n",
    "    return position\n",
    "```\n",
    "````\n",
    "````{tab-item} Numpy\n",
    "```python\n",
    "def numpy_random_walker(N, M, delta=1.0, dims=1):\n",
    "    \"\"\"\n",
    "    Simulates a random walk. Parameters:\n",
    "    - N: number of steps\n",
    "    - M: number fo walkers\n",
    "    - delta: size of one step (default=1)\n",
    "    - dims : number of dimensions (default=1)\n",
    "    \"\"\"\n",
    "    return np.cumsum(np.random.randint(0, 2, size=(N, M, dims)) * 2 - 1.0, axis=0)\n",
    "\n",
    "```\n",
    "````\n",
    "\n",
    "\n",
    "`````"
   ]
  },
  {
   "cell_type": "markdown",
   "metadata": {},
   "source": [
    "## Particle simulations and random walks\n",
    "\n",
    "andom walks provide a mathematical and numerical framework to model a variety of problems, such as the movement of molecules in a liquid, fluctuations of stock prices, the path of an animal looking for food, and the spread of diseases in a population.\n",
    "\n",
    "In this book we focus on liquids. It is pedagogical to explore how we can embed our knowledge of random walks in a framework for particle based simulations of liquids that we will use through the text.\n",
    "\n",
    "We leverage the python model `atooms`. This provides a simplified interface to paritcle based simulations with various dynamics. Interestingly, it also allows us to provide arbritrary dynamics to simulate a given model. \n",
    "\n",
    "Here we test this idea in the case of random walks.\n"
   ]
  },
  {
   "cell_type": "markdown",
   "metadata": {},
   "source": [
    "### Brief introduction to `atooms`\n",
    "\n",
    "`atooms` is a high-level package to handle particle based simulations (see [full documentation](https://atooms.frama.io/atooms/tutorial/)).\n",
    "\n",
    "`atooms` is object oriented: it contains objects with *attributes* and *methods* that allow us to access and modify the properties of the objects themselves and that also allow the objects to communicate with one another.\n"
   ]
  },
  {
   "cell_type": "markdown",
   "metadata": {},
   "source": [
    "```{admonition} Key objects \n",
    ":class: key\n",
    "- `System` contains the key information about our physical system. This includes:\n",
    "    - the `particle` attribute, containing the degrees of freedom of al particles (e.g. positions and velocities)\n",
    "    - the `cell` attribute, referring to the spatial domain of the simulation\n",
    "    - physical properties of the system such as its `temperature` or `potential_energy`\n",
    "- `Simulation` is a high-level class encapsulating the main workflow of a numerical calculation, such as collecting snapshots of the system at regular time.\n",
    "- `Backend` a combined Python class containing references to the system and the specifications for its dynamical evolution.\n",
    "```"
   ]
  },
  {
   "cell_type": "markdown",
   "metadata": {},
   "source": [
    "To design a custom dynamics (such as a collection of Brownian particles) we want to comply with the following schematic structure:"
   ]
  },
  {
   "cell_type": "markdown",
   "metadata": {},
   "source": [
    "```{mermaid}\n",
    "%%{init: {'theme': 'forest'}}%%\n",
    "flowchart LR\n",
    "    Simulation --> CustomBackend --> System\n",
    "```"
   ]
  },
  {
   "cell_type": "markdown",
   "metadata": {},
   "source": [
    "We start from designing a custom `Backend`. This a custom class containing **at least** two essential in ingredients:\n",
    "\n",
    "- a `system` attribute to refer t the state of our system\n",
    "- a `run` method to prescribe a specific evolution (in this case, a random walk). It takes a single parameter `steps` referring to the number of steps we want to evolve the system for.\n",
    "\n",
    "We can therefore create a custom backend that implements the ideas we developed above. In its simplest form, it involves two for loops: a first one over time and teh second one over the particles."
   ]
  },
  {
   "cell_type": "code",
   "execution_count": 12,
   "metadata": {},
   "outputs": [],
   "source": [
    "import numpy as np\n",
    "\n",
    "\n",
    "class RandomWalkBackend(object):\n",
    "    def __init__(self, system, delta=1.0):\n",
    "        self.system = system\n",
    "        self.delta = delta\n",
    "\n",
    "    def run(self, steps):\n",
    "        for i in range(steps):\n",
    "            for p in self.system.particle:\n",
    "                dr = self.delta * (np.random.randint(0, 2) * 2.0 - 1.0)\n",
    "                p.position += dr\n"
   ]
  },
  {
   "cell_type": "markdown",
   "metadata": {},
   "source": [
    "To use the backend, we first construct a system, then wrap the backedn around it and finally generate a simulation from the backend."
   ]
  },
  {
   "cell_type": "code",
   "execution_count": 52,
   "metadata": {},
   "outputs": [],
   "source": [
    "from atooms.system import System\n",
    "from atooms.simulation import Simulation\n",
    "\n",
    "N = 1000\n",
    "L = 10\n",
    "ndim = 3\n",
    "#  set up N particles\n",
    "system = System(N=N)\n",
    "# assign the initial positions inside a cubic box of side L\n",
    "for p in system.particle:\n",
    "    p.position = np.random.uniform(0, L, size=ndim)\n",
    "\n",
    "simulation = Simulation(RandomWalkBackend(system))\n",
    "# run the simulation\n",
    "simulation.run(100)\n"
   ]
  },
  {
   "cell_type": "markdown",
   "metadata": {},
   "source": [
    "This minimal code performs the simulation, but we want to track some changes during the evolution. To do so, `atooms` employs the concept of `callbacks`: this are functions that are regularly called by the `Simulation` object to perform calculations on the `System`.\n",
    "\n",
    "They are defined as standard python functions with a specific first argument `sim` that stands for the simulation object itself.\n",
    "\n",
    "Let us write a callback to calculate the mean squared displacement:"
   ]
  },
  {
   "cell_type": "code",
   "execution_count": 58,
   "metadata": {},
   "outputs": [],
   "source": [
    "def msd_callback(sim, initial_position, db):\n",
    "    \"\"\" \"\n",
    "    Callback to compute the mean squared displacement.\n",
    "    \"\"\"\n",
    "    msd = 0.0\n",
    "    for i, p in enumerate(sim.system.particle):\n",
    "        dr = p.position - initial_position[i]\n",
    "        msd += np.sum(dr**2)\n",
    "    msd /= len(sim.system.particle)\n",
    "    db[sim.current_step] = msd\n"
   ]
  },
  {
   "cell_type": "markdown",
   "metadata": {},
   "source": [
    "To use the callback, we need to **add** it to the simulation object. Remark that we make use of the method `dump` from `system` to retrieve the array of initial position quickly."
   ]
  },
  {
   "cell_type": "code",
   "execution_count": 56,
   "metadata": {},
   "outputs": [],
   "source": [
    "msd_db = {}\n",
    "# interval to store the MSD\n",
    "dt_msd = 10\n",
    "simulation.add(msd_callback, dt_msd, initial_position=system.dump(\"pos\"), db=msd_db)\n",
    "simulation.run(1000)\n"
   ]
  },
  {
   "cell_type": "code",
   "execution_count": 57,
   "metadata": {},
   "outputs": [
    {
     "ename": "IndexError",
     "evalue": "index 0 is out of bounds for axis 0 with size 0",
     "output_type": "error",
     "traceback": [
      "\u001b[0;31m---------------------------------------------------------------------------\u001b[0m",
      "\u001b[0;31mIndexError\u001b[0m                                Traceback (most recent call last)",
      "Cell \u001b[0;32mIn[57], line 5\u001b[0m\n\u001b[1;32m      3\u001b[0m t, MSD  \u001b[39m=\u001b[39m np\u001b[39m.\u001b[39marray(\u001b[39mlist\u001b[39m(msd_db\u001b[39m.\u001b[39mkeys())),np\u001b[39m.\u001b[39marray(\u001b[39mlist\u001b[39m(msd_db\u001b[39m.\u001b[39mvalues()))\n\u001b[1;32m      4\u001b[0m \u001b[39m# subtract the starting time and plot\u001b[39;00m\n\u001b[0;32m----> 5\u001b[0m plt\u001b[39m.\u001b[39mloglog(t\u001b[39m-\u001b[39mt[\u001b[39m0\u001b[39;49m]\u001b[39m+\u001b[39mdt_msd,MSD)\n\u001b[1;32m      6\u001b[0m plt\u001b[39m.\u001b[39mxlabel(\u001b[39m'\u001b[39m\u001b[39mt\u001b[39m\u001b[39m'\u001b[39m)\n\u001b[1;32m      7\u001b[0m plt\u001b[39m.\u001b[39mylabel(\u001b[39m'\u001b[39m\u001b[39mMSD\u001b[39m\u001b[39m'\u001b[39m)\n",
      "\u001b[0;31mIndexError\u001b[0m: index 0 is out of bounds for axis 0 with size 0"
     ]
    }
   ],
   "source": [
    "import matplotlib.pyplot as plt\n",
    "\n",
    "# convert dict to array\n",
    "t, MSD = np.array(list(msd_db.keys())), np.array(list(msd_db.values()))\n",
    "# subtract the starting time and plot\n",
    "plt.loglog(t - t[0] + dt_msd, MSD)\n",
    "plt.xlabel(\"t\")\n",
    "plt.ylabel(\"MSD\")\n",
    "plt.show()\n"
   ]
  },
  {
   "cell_type": "markdown",
   "metadata": {},
   "source": [
    "### Accessing arrays of properties\n",
    "\n",
    "The above backend (and callback) are slow. This is because the particle positions are accessed via for loops over the particles. `atooms` also allows for a vectorised access to these properties via two system methods:\n",
    "- `dump(property)` which returns a copy of the property array.\n",
    "- `view(property` which returns a view of the property array (i.e. a *pointer* to the same memory ).\n",
    "\n",
    "We can use these to avoid some for looks and make the code more `numpy`-like and achieve a very significant speedup."
   ]
  },
  {
   "cell_type": "code",
   "execution_count": 66,
   "metadata": {},
   "outputs": [],
   "source": [
    "class RandomWalkBackendFast(object):\n",
    "    def __init__(self, system, delta=1.0):\n",
    "        self.system = system\n",
    "        self.delta = delta\n",
    "\n",
    "    def run(self, steps):\n",
    "        position = self.system.view(\"pos\")\n",
    "        for k in range(steps):\n",
    "            dr = np.random.uniform(-0.5, 0.5, size=position.shape)\n",
    "            position += dr * self.delta\n",
    "\n",
    "\n",
    "def msd_callback_fast(sim, initial_position, db):\n",
    "    \"\"\" \"\n",
    "    Callback to compute the mean squared displacement.\n",
    "    \"\"\"\n",
    "    msd = 0.0\n",
    "    position = sim.system.view(\"pos\")\n",
    "    dr = position - initial_position\n",
    "    msd += np.sum(dr**2)\n",
    "    msd /= len(sim.system.particle)\n",
    "    db[sim.current_step] = msd\n",
    "\n",
    "\n",
    "system = System(N=N)\n",
    "# assign the initial positions inside a cubic box of side L\n",
    "positions = system.view(\"pos\")\n",
    "positions = np.random.uniform(0, L, size=system.view(\"pos\").shape)\n",
    "\n",
    "simulation = Simulation(RandomWalkBackendFast(system))\n",
    "\n",
    "msd_db = {}\n",
    "dt_msd = 10\n",
    "simulation.add(\n",
    "    msd_callback_fast, dt_msd, initial_position=system.dump(\"pos\"), db=msd_db\n",
    ")\n",
    "simulation.run(1000)\n"
   ]
  },
  {
   "cell_type": "code",
   "execution_count": 67,
   "metadata": {},
   "outputs": [
    {
     "data": {
      "image/png": "[encoded data removed]",
      "text/plain": [
       "<Figure size 720x450 with 1 Axes>"
      ]
     },
     "metadata": {},
     "output_type": "display_data"
    }
   ],
   "source": [
    "t, MSD = np.array(list(msd_db.keys())), np.array(list(msd_db.values()))\n",
    "# subtract the starting time and plot\n",
    "plt.loglog(t, MSD)\n",
    "plt.xlabel(\"t\")\n",
    "plt.ylabel(\"MSD\")\n",
    "plt.show()\n"
   ]
  }
 ],
 "metadata": {
  "kernelspec": {
   "display_name": "env",
   "language": "python",
   "name": "python3"
  },
  "language_info": {
   "codemirror_mode": {
    "name": "ipython",
    "version": 3
   },
   "file_extension": ".py",
   "mimetype": "text/x-python",
   "name": "python",
   "nbconvert_exporter": "python",
   "pygments_lexer": "ipython3",
   "version": "3.11.1"
  },
  "orig_nbformat": 4
 },
 "nbformat": 4,
 "nbformat_minor": 2
}
