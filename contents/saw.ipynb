{
 "cells": [
  {
   "cell_type": "markdown",
   "metadata": {},
   "source": [
    "## Self-avoiding walk (SAW)\n",
    "\n",
    "We simulate a self-avoiding walk (SAW) on a square lattice. Each walk represents a possible conformation of a polymer composed of $N$ monomers. We use a simple Monte Carlo algorithm to sample the possible conformations of the polymer."
   ]
  },
  {
   "cell_type": "code",
   "execution_count": null,
   "metadata": {},
   "outputs": [
    {
     "data": {
      "text/plain": [
       "[<matplotlib.lines.Line2D at 0x7fae526c2130>]"
      ]
     },
     "execution_count": null,
     "metadata": {},
     "output_type": "execute_result"
    },
    {
     "data": {
      "image/png": "[encoded data removed]",
      "text/plain": [
       "<Figure size 432x288 with 1 Axes>"
      ]
     },
     "metadata": {
      "needs_background": "light"
     },
     "output_type": "display_data"
    }
   ],
   "source": [
    "import numpy\n",
    "import matplotlib.pyplot as plt \n",
    "\n",
    "# Model parameters\n",
    "N = 100\n",
    "L = 1000\n",
    "matrix = numpy.zeros((L+1, L+1), dtype=int)\n",
    "\n",
    "# Setup initial configuration as a long linear chain wrapped around the boundaries\n",
    "positions = []\n",
    "for x in range(L):\n",
    "    for y in range(L):\n",
    "        if x % 2 != 0:\n",
    "            y = L - y\n",
    "        positions.append([x, y])\n",
    "        matrix[x, y] = 1\n",
    "        if len(positions) >= N:\n",
    "            break\n",
    "    if len(positions) >= N:\n",
    "        break\n",
    "\n",
    "plt.plot([r[0] for r in positions], [r[1] for r in positions], '-o')"
   ]
  },
  {
   "cell_type": "markdown",
   "metadata": {},
   "source": [
    "Now we update the walk using a simple Monte Carlo algorithm. At every step, we try to remove the monomer from the tail (head) and attach it to the head (tail), accepting new conformations if satify the self-avoidance constraint but retaining the old ones if they don't."
   ]
  },
  {
   "cell_type": "code",
   "execution_count": null,
   "metadata": {},
   "outputs": [
    {
     "data": {
      "text/plain": [
       "[<matplotlib.lines.Line2D at 0x7fae5242bc40>]"
      ]
     },
     "execution_count": null,
     "metadata": {},
     "output_type": "execute_result"
    },
    {
     "data": {
      "image/png": "[encoded data removed]",
      "text/plain": [
       "<Figure size 432x288 with 1 Axes>"
      ]
     },
     "metadata": {
      "needs_background": "light"
     },
     "output_type": "display_data"
    }
   ],
   "source": [
    "# Pick up first monomer\n",
    "import random\n",
    "\n",
    "steps = 100\n",
    "for step in range(steps):\n",
    "    # Either take the first particle and add it to the tail (drop=0, insert=-1)\n",
    "    # or the opposite (drop=-1, insert=0)\n",
    "    drop, insert = random.choice([[0, -1], [-1, 0]])\n",
    "\n",
    "    # Attempt to put the particle at position `pos`\n",
    "    delta = random.choice([[1, 0], [-1, 0], [0, 1], [0, -1]])\n",
    "    pos = positions[insert][:] + numpy.array(delta)\n",
    "    \n",
    "    # If the new site is empty, add the particle\n",
    "    if matrix[pos[0], pos[1]] == 0:\n",
    "        new = positions.pop(drop)\n",
    "        matrix[new[0], new[1]] = 0\n",
    "        matrix[pos[0], pos[1]] = 1\n",
    "        new[:] = pos\n",
    "\n",
    "        # Either add to the head or the tail\n",
    "        if insert == 0:\n",
    "            positions.insert(0, new)\n",
    "        else:\n",
    "            positions.append(new)\n",
    "       \n",
    "plt.plot([r[0] for r in positions], [r[1] for r in positions], '-o')"
   ]
  },
  {
   "cell_type": "markdown",
   "metadata": {},
   "source": [
    "**Exercise 1**: *Equilibration*\n",
    "\n",
    "How many steps are required to \"equilibrate\" the SAW? To get a feeling, execute the blocks above several times until *by visual inspection* the SAW looses memory of its initial shape. Keep track of the total number of equilibration steps for $N=10, 100, 1000$. What do you observe?"
   ]
  },
  {
   "cell_type": "markdown",
   "metadata": {},
   "source": [
    "**Exercice 2**: *Flory exponent*\n",
    "\n",
    "Compute the root-mean-square end-to-end vector $R\\equiv {\\langle |\\vec{R}|^2\\rangle}^{1/2}$ for several $N$ in the interval $[10, 500]$ and estimate the Flory exponent $\\nu$ defined by the relation\n",
    "$$R \\sim N^\\nu$$\n",
    "Compare your numerical results to the Flory argument for a SAW in $d=2$ spatial dimensions, \n",
    "\n",
    "*Hint 1*: do not forget to ignore the conformations sampled during the equilibration phase!\n",
    "\n",
    "*Hint 2*: you may want to encapsulate the blocks above into separate functions that initialize and update the SAW respectively. \n",
    "\n",
    "*To go beyond*: Adapt the code to generate SAWs in $d=3$. Find the Flory exponent and compare it to the Flory argument ($\\nu=3/5$) and to the result of renormalization group theory ($\\nu=0.588$). In order to actually favor one theoretical prediction over the other, high quality data are needed and it is recommended to perform the simulations in a more efficient language such as C, Fortran or Julia. If you want to keep using python you may want to try `f2py` or `f2py-jit` (to integrate Fortran 90 in python) or `numba` (to compile python just-in-time!) or related tools."
   ]
  },
  {
   "cell_type": "markdown",
   "metadata": {},
   "source": [
    "**Exercice 3**: *fractal dimension* $D$\n",
    "    \n",
    "Measure the fractal dimension of a SAW in $d=2$ dimensions using the relation\n",
    "$$\n",
    "\\langle N(r)\\rangle \\sim r^D\n",
    "$$\n",
    "where $N(r)$ is the number of particles in a circle of radius centered on the polymer center of mass. Compare to the theoretical expectation based on the Flory argument."
   ]
  }
 ],
 "metadata": {
  "kernelspec": {
   "display_name": "Python 3",
   "language": "python",
   "name": "python3"
  },
  "language_info": {
   "codemirror_mode": {
    "name": "ipython",
    "version": 3
   },
   "file_extension": ".py",
   "mimetype": "text/x-python",
   "name": "python",
   "nbconvert_exporter": "python",
   "pygments_lexer": "ipython3",
   "version": "3.8.10"
  }
 },
 "nbformat": 4,
 "nbformat_minor": 4
}
