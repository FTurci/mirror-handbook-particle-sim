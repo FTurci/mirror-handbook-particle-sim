{
 "cells": [
  {
   "attachments": {},
   "cell_type": "markdown",
   "metadata": {},
   "source": [
    "# Stochastic motion in continuous space\n",
    "\n",
    "\n",
    "## The Langevin equation\n",
    "\n",
    "When considering Brownian motion in continuous time and space, a very useful physical model is provided by the *Langevin equation*. This is **stochastic differential equation** that includes deterministic and random forces to represent the motion of a particle suspended in a viscuous fluid:\n",
    "\n",
    "$$\\begin{equation}\n",
    "m \\frac{d \\vec{v}}{d t}=-\\xi \\vec{v}+\\vec{F}_{ext}+\\vec{\\theta}(t) \\\\\n",
    "\\end{equation}\n",
    "$$(langevin)\n",
    "\n",
    "\n",
    "It states that the acceleration on the particle is determined by three contributions:\n",
    "- a frictional force with macroscopic friction coefficient $\\xi$ \n",
    "- an external force acting on the particle (e.g. an electric field, the force of gravity, etc.)\n",
    "- a micoscopic stochastic force \\vec{\\theta}$  defined by its first and second moments:\n",
    "\n",
    "$$\n",
    "\\begin{aligned}\n",
    "& \\langle\\vec{\\theta}(t)\\rangle=\\overrightarrow{0} \\\\\n",
    "& \\left\\langle\\theta_{\\alpha}(t) \\theta_{\\beta}\\left(t^{\\prime}\\right)\\right\\rangle=2 \\theta_{0} \\delta_{\\alpha \\beta} \\delta\\left(t-t^{\\prime}\\right)\n",
    "\\end{aligned}\n",
    "$$\n",
    "\n",
    "The Langevin equation acts as a prototype for stochastic processes and allows us to explore various regimes.\n",
    "\n",
    "### Free particle and fluctuation-dissipation relation\n",
    "\n",
    "\n",
    "\n",
    "\n",
    "The first interesting  problem to address is the solution of the Langevin equation in the absence of external forces $F_{\\rm ext}=0$.\n",
    "\n",
    "$$\\begin{equation}\n",
    "m \\frac{d \\vec{v}}{d t}=-\\xi \\vec{v}+\\vec{\\theta}(t) \\\\\n",
    "\\end{equation}\n",
    "$$(langevin)\n",
    "\n",
    "The formal solution for a **free particle** (see Proof below) is\n",
    "\n",
    "$$\n",
    "\\begin{equation}\n",
    "\\vec{v}(t)=e^{-\\xi t/ m } \\vec{v}(0)+\\frac{1}{m} \\int_{0}^{t} d s e^{-\\xi (t-s)/m} \\vec{\\theta}(s)\n",
    "\\end{equation}\n",
    "$$(free-langevin)\n",
    "\n",
    "\n",
    "```{admonition} Proof\n",
    ":class: proof dropdown\n",
    "\n",
    "Since the particle is free\n",
    "\n",
    "$$\n",
    "\\begin{equation}\n",
    "\\vec{F}_{\\text {ext }}=\\overrightarrow{0}\n",
    "\\end{equation}\n",
    "$$\n",
    "\n",
    "The Langevin equation eq.{eq}`langevin` reads \n",
    "\n",
    "$$\\begin{equation}\n",
    "\\frac{d \\bar{v}}{d t}=-\\frac{\\xi}{m} \\vec{v}+\\frac{1}{m} \\vec{\\theta}(t)\n",
    "\\end{equation}\n",
    "$$\n",
    "\n",
    "We treat this as a *stochastic differential equation*\n",
    "\n",
    "$$\n",
    "\\begin{equation}\n",
    "\\begin{aligned}\n",
    "& \\frac{d x}{d t}=a x(t)+b(t) \\\\\n",
    "& x(t)=e^{a t} y(t) \\\\\n",
    "& a e^{a t} y(t)+e^{a t} \\frac{d y}{d t}=a e^{a t} y(t)+b(t) \\\\\n",
    "& \\frac{d y}{d t}=e^{-a t} b(t) \\\\\n",
    "& y(t)=\\underbrace{y(0)}_{x(0)}+\\int_0^t d s e^{-a s} b(s)\n",
    "\\end{aligned}\n",
    "\\end{equation}\n",
    "$$\n",
    "\n",
    "So \n",
    "\n",
    "$$\n",
    "\\begin{equation}\n",
    "x(t)=e^{a t} x(0)+\\int_0^t ds e^{-a(s-t)} b(s)\n",
    "\\end{equation}\n",
    "$$\n",
    "\n",
    "with\n",
    "\n",
    "$$\n",
    "\\begin{equation}\n",
    "a=-\\frac{\\xi}{m} \\quad b=\\frac{1}{m} \\vec{\\theta}\n",
    "\\end{equation}\n",
    "$$\n",
    "\n",
    "leading to \n",
    "\n",
    "$$\n",
    "\\begin{equation}\n",
    "\\vec{v}(t)=e^{-\\xi / m t} \\vec{v}(0)+\\frac{1}{m} \\int_{0}^{t} ds e^{-\\xi / m(t-s)} \\vec{\\theta}(s)\n",
    "\\end{equation}\n",
    "$$\n",
    "\n",
    "\n",
    "```\n",
    "\n",
    "It has two main ingredients:\n",
    "- a **frictional damping** of the initial velocity due to the friction, which eventually vanishes to zero (the particle *forgets* about its initial velocity)\n",
    "- a **memory effect** over the impulses received from the random force (the particle is constantly kicked in different directions and with different kick strengths)."
   ]
  },
  {
   "cell_type": "markdown",
   "metadata": {},
   "source": [
    "A single realisation of the dynamics in Eq.{eq}`free-langevin` is as informative as a single random walker: its velocity at time $t$ depends specifically on the sequence fo steps that we have followed.\n",
    "\n",
    "We can see this by solving numerical the equation using the simplest scheme, the **Euler-Maruyama** scheme: the particle velocities are updated after a (small compared to time-units set by the mass and the friction coefficient) time-step according to \n",
    "\n",
    "$$\\begin{equation}\n",
    "v_{t+\\Delta t} = v_t - \\dfrac{\\xi}{m} v_t \\Delta t+\\dfrac{1}{m} \\sqrt{2\\theta_0\\Delta t}\n",
    "\\end{equation}\n",
    "$$\n",
    "\n",
    "Notice how the random force contribution is calculated: the stochastic kicks are producing a random walk in velocity space, so their variance scales linearly with the timestep, so that the force itself scales as the **square root** of the timestep. "
   ]
  },
  {
   "cell_type": "code",
   "execution_count": 1,
   "metadata": {},
   "outputs": [],
   "source": [
    "import numpy as np\n",
    "import matplotlib.pyplot as plt\n"
   ]
  },
  {
   "cell_type": "code",
   "execution_count": 15,
   "metadata": {},
   "outputs": [],
   "source": [
    "def free_particle(v0, xi, theta0, steps, dt=0.01, m=1):\n",
    "    \"\"\"Implement Euler-Maruyama method for a free particle.\"\"\"\n",
    "    np.random.seed(0)\n",
    "    v = np.zeros(steps)\n",
    "    thetas = np.random.normal(0, np.sqrt(2 * theta0), steps)\n",
    "    v[0] = v0\n",
    "    for step in range(steps - 1):\n",
    "        v[step + 1] = v[step] - xi / m * v[step] * dt + np.sqrt(dt) * thetas[step] / m\n",
    "    t = np.arange(steps) * dt\n",
    "\n",
    "    # calculate the discretised integral for the analytical result\n",
    "    ds = dt\n",
    "    s = np.copy(t)\n",
    "    integral = np.zeros(steps)\n",
    "    for i in range(steps):\n",
    "        integral[i] = np.sum(\n",
    "            np.exp(-xi * (t[i] - s[:i]) / m)\n",
    "            * thetas[:i]\n",
    "            * np.sqrt(ds)  # note that the time discretisation has a step of sqrt(dt)\n",
    "        )\n",
    "    analytical = v0 * np.exp(-xi * t / m) + integral / m\n",
    "\n",
    "    return t, v, analytical\n"
   ]
  },
  {
   "cell_type": "markdown",
   "metadata": {},
   "source": [
    "we can construct a convenient function for plotting as teh results for different values of the timestep and friction."
   ]
  },
  {
   "cell_type": "code",
   "execution_count": 16,
   "metadata": {},
   "outputs": [],
   "source": [
    "def plot_free_particle(dt, xi):\n",
    "    t, vsim, vanalytical = free_particle(1, xi, 0.5, 100, dt=dt)\n",
    "    plt.figure(figsize=(4, 2))\n",
    "    plt.plot(t, vsim, label=\"Simulation\")\n",
    "    plt.plot(t, vanalytical, label=\"Semi-Analytical\")\n",
    "    plt.xlabel(\"Time\")\n",
    "    plt.ylabel(\"Velocity\")\n",
    "    plt.legend()\n",
    "    plt.show()\n"
   ]
  },
  {
   "cell_type": "markdown",
   "metadata": {},
   "source": [
    "For small timesteps, the simulation fllows closely the (semi)-analytical result."
   ]
  },
  {
   "cell_type": "code",
   "execution_count": 17,
   "metadata": {},
   "outputs": [
    {
     "data": {
      "image/png": "[encoded data removed]",
      "text/plain": [
       "<Figure size 480x240 with 1 Axes>"
      ]
     },
     "metadata": {},
     "output_type": "display_data"
    }
   ],
   "source": [
    "plot_free_particle(0.1, 0.5)\n"
   ]
  },
  {
   "cell_type": "markdown",
   "metadata": {},
   "source": [
    "When the timestep is too large, the Euler-Maruyama solver is inaccurate."
   ]
  },
  {
   "cell_type": "code",
   "execution_count": 18,
   "metadata": {},
   "outputs": [
    {
     "data": {
      "image/png": "[encoded data removed]",
      "text/plain": [
       "<Figure size 480x240 with 1 Axes>"
      ]
     },
     "metadata": {},
     "output_type": "display_data"
    }
   ],
   "source": [
    "plot_free_particle(2.0, 0.5)\n"
   ]
  },
  {
   "cell_type": "markdown",
   "metadata": {},
   "source": [
    "In an interactive session (e.g. nootebook) you can run the following command to explore different regimes."
   ]
  },
  {
   "cell_type": "code",
   "execution_count": 19,
   "metadata": {},
   "outputs": [
    {
     "data": {
      "application/vnd.jupyter.widget-view+json": {
       "model_id": "0c9a3be80db84609b8a764fde66a994e",
       "version_major": 2,
       "version_minor": 0
      },
      "text/plain": [
       "interactive(children=(FloatSlider(value=1.0, description='dt', max=2.0, min=0.01, step=0.01), FloatSlider(valu…"
      ]
     },
     "metadata": {},
     "output_type": "display_data"
    },
    {
     "data": {
      "text/plain": [
       "<function __main__.plot_free_particle(dt, xi)>"
      ]
     },
     "execution_count": 19,
     "metadata": {},
     "output_type": "execute_result"
    }
   ],
   "source": [
    "from ipywidgets import interact\n",
    "\n",
    "interact(plot_free_particle, dt=(0.01, 2, 0.01), xi=(0.01, 1.5, 0.01))\n"
   ]
  },
  {
   "attachments": {},
   "cell_type": "markdown",
   "metadata": {},
   "source": [
    "\n",
    "## Overdamped limit: Brownian dynamics\n",
    "\n",
    "We simulate the overdamped Brownian dynamics\n",
    "\n",
    "$$\n",
    "\\begin{equation}\n",
    "\\xi \\frac{d\\vec{r}}{dt} = \\vec{\\theta}(t) + \\vec{F}(\\vec{r})\n",
    "\\end{equation}\n",
    "$$\n",
    "\n",
    "of a colloidal particle under the influence of an external force $\\vec{F}$ and compute its mean square displacement $\\langle |\\Delta \\vec{r}(t)|^2\\rangle$. As usual, several non-interacting particles are simulated in parallel to improve the statistics.  \n"
   ]
  },
  {
   "cell_type": "code",
   "execution_count": null,
   "metadata": {},
   "outputs": [],
   "source": [
    "# Model parameters\n",
    "npart = 1000\n",
    "ndims = 1\n",
    "friction = 1.0\n",
    "k = 0.5\n",
    "T = 1.0\n",
    "dt = 0.04\n",
    "nsteps = int(30.0 / dt)\n",
    "\n",
    "# Fluctuation dissipation relation\n",
    "D = T / friction\n",
    "width = (2 * D * dt) ** 0.5\n",
    "\n",
    "# Overdamped Brownian dynamics\n",
    "positions = numpy.zeros((npart, ndims))\n",
    "msd = []\n",
    "for i in range(nsteps):\n",
    "    # Store MSD\n",
    "    msd.append(numpy.sum(positions**2) / npart)\n",
    "\n",
    "    # Integration step\n",
    "    for position in positions:\n",
    "        noise = numpy.random.normal(0.0, width, ndims)\n",
    "        # No external field\n",
    "        force = numpy.zeros(ndims)\n",
    "        # Harmonic potential\n",
    "        # force = - k * position\n",
    "        position += noise + force * dt / friction\n",
    "\n",
    "time = numpy.array(range(nsteps)) * dt\n",
    "plt.plot(time, msd, \"o\", label=\"Simulation\")\n",
    "# Theoretical diffusive behavior (in the absence of external force)\n",
    "plt.plot(time, 2 * ndims * D * time, \"-\", label=\"Theory\")\n",
    "# This is to plot an horizontal line at height y\n",
    "# plt.axhline(y, xmin=time[0], xmax=time[-1])\n",
    "plt.xlabel(\"t\")\n",
    "plt.ylabel(\"MSD\")\n",
    "plt.legend()\n"
   ]
  },
  {
   "attachments": {},
   "cell_type": "markdown",
   "metadata": {},
   "source": [
    "**Exercise 1**: *drift-diffusion*\n",
    "\n",
    "The Brownian particles are subject to a constant external force $F>0$ in one dimension. This will lead to a systematic drift in the motion of the particles.\n",
    "\n",
    "1. Compute analytically the first two moments of the position, $\\langle x(t)\\rangle$ and $\\langle x^2(t)\\rangle$, and provide a physical interpretation of the results\n",
    "2. Cross-check the results against the simulation data and plot the results in a double logarithmic scale. Identify the ballistic and the diffusive regime."
   ]
  },
  {
   "attachments": {},
   "cell_type": "markdown",
   "metadata": {},
   "source": [
    "**Exercise 2**: *harmonic potential* \n",
    "\n",
    "Put the Brownian particles in a harmonic potential $U(x) = \\frac{1}{2}kx^2$ in one dimension.\n",
    "\n",
    "1. Check that $\\langle |\\Delta x(t)|^2\\rangle$ is diffusive in the absence of external field but saturates to a finite value when the harmonic potential is switched on\n",
    "\n",
    "2. Determine analytically the equilibrium value $\\langle |\\Delta x(t=\\infty)|^2\\rangle$ and compare it to the simulation data. Which factors control the relaxation time that describes the approach to equilibrium? "
   ]
  },
  {
   "attachments": {},
   "cell_type": "markdown",
   "metadata": {},
   "source": [
    "**Exercise 3**: *thermally activated barrier crossing*\n",
    "\n",
    "Study numerically the dynamics of a Brownian particle in a one-dimensional double well potential \n",
    "\n",
    "$$\n",
    "U(x) = U_0 (1 - (x/a)^2)^2\n",
    "$$\n",
    "\n",
    "The initial position of the particle will be at the bottom of the left well: $x(t=0)=-a$. \n",
    "\n",
    "1. Choose a temperature $T > U_0$, for which barrier crossing is easy, and plot a single trajectory $x(t)$ over a sufficiently long time. What do you observe?\n",
    "2. Reduce the temperature, $T < U_0$, and repeat the numerical experiment. What do you observe? \n",
    "3. Give the expression of the probability density $p(x)$ at equilibrium. Can you estimate the time needed to reach equilibrium? (simulate several independent particles in parallel)"
   ]
  },
  {
   "cell_type": "code",
   "execution_count": null,
   "metadata": {},
   "outputs": [],
   "source": [
    "# Model parameters\n",
    "npart = 1\n",
    "ndims = 1\n",
    "friction = 1.0\n",
    "k = 0.5\n",
    "T = 0.2\n",
    "dt = 0.01\n",
    "nsteps = int(1000.0 / dt)\n",
    "D = T / friction\n",
    "width = (2 * D * dt) ** 0.5\n",
    "\n",
    "# Overdamped Brownian dynamics\n",
    "positions = numpy.zeros((npart, ndims))\n",
    "pos = []\n",
    "for i in range(nsteps):\n",
    "    pos.append(position[0])  # numpy.sum(positions**2) / npart)\n",
    "    for position in positions:\n",
    "        noise = numpy.random.normal(0.0, width, ndims)\n",
    "        # force = numpy.zeros(ndims)\n",
    "        force = 4 * position * (1 - position**2)\n",
    "        position += noise + force * dt / friction\n",
    "\n",
    "time = numpy.array(range(nsteps)) * dt\n",
    "plt.plot(time, pos, \"o\", label=\"Simulation\")\n",
    "plt.xlabel(\"t\")\n"
   ]
  },
  {
   "cell_type": "code",
   "execution_count": null,
   "metadata": {},
   "outputs": [],
   "source": [
    "# Double well potential\n",
    "x = numpy.linspace(-1.5, 1.5, 100)\n",
    "plt.plot(x, (1 - x**2) ** 2)\n"
   ]
  },
  {
   "attachments": {},
   "cell_type": "markdown",
   "metadata": {},
   "source": [
    "**Exercise 4**: *stochastic resonance*\n",
    "\n",
    "Consider a Brownian particle in a double well potential\n",
    "$$\n",
    "U(x) = U_0 (1 - (x/a)^2)^2\n",
    "$$\n",
    "subject to an additional periodic force of the form\n",
    "$$\n",
    "F(x) = F_0 \\sin(2\\pi t/\\tau)\n",
    "$$\n",
    "where $A$ is the forcing amplitude and $\\tau$ is the forcing period. For convenience, set $U_0=1$ and $a=1$.\n",
    "\n",
    "1. Use Kramers theory to estimate the relaxation time $\\tau_K$ at $T=0.4$ *in the absence of forcing* ($A=0$).\n",
    "2. Add a small forcing $F_0=10^{-1}$ and plot the trajectory of the Brownian particle $x(t)$ over a time much longer than $\\tau_K$ in the following two cases: (i) $\\tau > \\tau_K$, (ii) $\\tau < \\tau_K$. What do you observe? \n",
    "3. Compare your results to the analysis of Benzi, Nonlin. Processes Geophys. 17, 431 (2010) (https://npg.copernicus.org/articles/17/431/2010/) and of Simon & Libchaber, Phys. Rev. Lett. 68, 3375 (1992) (https://journals.aps.org/prl/abstract/10.1103/PhysRevLett.68.3375)"
   ]
  },
  {
   "cell_type": "code",
   "execution_count": null,
   "metadata": {},
   "outputs": [],
   "source": [
    "import numpy\n",
    "import matplotlib.pyplot as plt\n",
    "\n",
    "# Model parameters\n",
    "npart = 1\n",
    "ndims = 1\n",
    "friction = 1.0\n",
    "k = 0.5\n",
    "T = 0.4\n",
    "dt = 0.04\n",
    "nsteps = int(2000.0 / dt)\n",
    "U_0 = 1\n",
    "a = 1\n",
    "A = 1e-1\n",
    "tau = 100.0\n",
    "\n",
    "# Fluctuation dissipation relation\n",
    "D = T / friction\n",
    "width = (2 * D * dt) ** 0.5\n",
    "\n",
    "# Overdamped Brownian dynamics\n",
    "positions = numpy.zeros((npart, ndims))\n",
    "x = []\n",
    "for i in range(nsteps):\n",
    "    # Store MSD\n",
    "    x.append(positions[0, 0])\n",
    "\n",
    "    # Integration step\n",
    "    for position in positions:\n",
    "        noise = numpy.random.normal(0.0, width, ndims)\n",
    "        # No external field\n",
    "        force = numpy.zeros(ndims)\n",
    "        # Harmonic potential\n",
    "        force = 4 * U_0 / a**2 * position * (1 - (position / a) ** 2)\n",
    "        force += A * numpy.sin(2 * numpy.pi * i * dt / tau)\n",
    "        position += noise + force * dt / friction\n",
    "\n",
    "time = numpy.array(range(nsteps)) * dt\n",
    "plt.plot(time, x)\n",
    "# This is to plot an horizontal line at height y\n",
    "# plt.axhline(y, xmin=time[0], xmax=time[-1])\n",
    "plt.xlabel(\"t\")\n"
   ]
  },
  {
   "cell_type": "code",
   "execution_count": null,
   "metadata": {},
   "outputs": [],
   "source": [
    "import numpy\n",
    "from random import random\n",
    "from atooms.system.particle import Particle\n",
    "\n",
    "\n",
    "class RandomWalk(object):\n",
    "    def __init__(self, system, delta=1.0):\n",
    "        self.system = system\n",
    "        self.delta = delta\n",
    "\n",
    "    def run(self, steps):\n",
    "        for i in range(steps):\n",
    "            for p in self.system.particle:\n",
    "                dr = numpy.array([random() - 0.5, random() - 0.5, random() - 0.5])\n",
    "                dr *= self.delta\n",
    "                p.position += dr\n"
   ]
  },
  {
   "cell_type": "code",
   "execution_count": null,
   "metadata": {},
   "outputs": [],
   "source": [
    "from atooms.system import System\n",
    "from atooms.simulation import Simulation\n",
    "\n",
    "\n",
    "system = System(N=1000)\n",
    "L = 10\n",
    "# for i in range(1000):\n",
    "#     p = Particle(position=[L * random(), L * random(), L * random()])\n",
    "#     system.particle.append(p)\n",
    "\n",
    "simulation = Simulation(RandomWalk(system))\n",
    "\n",
    "# We add a callback that computes the MSD every 10 steps\n",
    "# We store the result in a dictionary passed to the callback\n",
    "msd_db = {}\n",
    "\n",
    "\n",
    "def cbk(sim, initial_position, db):\n",
    "    msd = 0.0\n",
    "    for i, p in enumerate(sim.system.particle):\n",
    "        dr = p.position - initial_position[i]\n",
    "        msd += numpy.sum(dr**2)\n",
    "    msd /= len(sim.system.particle)\n",
    "    db[sim.current_step] = msd\n",
    "\n",
    "\n",
    "# We will execute the callback every 10 steps\n",
    "simulation.add(\n",
    "    cbk, 10, initial_position=[p.position.copy() for p in system.particle], db=msd_db\n",
    ")\n",
    "simulation.run(50)\n",
    "# The MSD should increase linearly with time\n",
    "time = sorted(msd_db.keys())\n"
   ]
  },
  {
   "cell_type": "code",
   "execution_count": null,
   "metadata": {},
   "outputs": [],
   "source": [
    "msd_db\n"
   ]
  },
  {
   "cell_type": "code",
   "execution_count": null,
   "metadata": {},
   "outputs": [],
   "source": [
    "simulation.system.particle[0].position\n"
   ]
  },
  {
   "cell_type": "markdown",
   "metadata": {},
   "source": []
  },
  {
   "cell_type": "code",
   "execution_count": null,
   "metadata": {},
   "outputs": [],
   "source": [
    "class FastRandomWalk(RandomWalk):\n",
    "    def run(self, steps):\n",
    "        pos = self.system.view(\"pos\")\n",
    "        for k in range(steps):\n",
    "            dr = numpy.random.uniform(-0.5, 0.5, size=pos.shape)\n",
    "            pos += dr * self.delta\n"
   ]
  },
  {
   "cell_type": "code",
   "execution_count": null,
   "metadata": {},
   "outputs": [],
   "source": [
    "simulation.backend = FastRandomWalk(System(N=1000))\n",
    "# reset msd_db dictionary\n",
    "msd_db.clear()\n",
    "# run sim\n",
    "simulation.run(100)\n",
    "\n",
    "# The MSD should increase linearly with time\n",
    "time = sorted(msd_db.keys())\n"
   ]
  },
  {
   "cell_type": "code",
   "execution_count": null,
   "metadata": {},
   "outputs": [],
   "source": [
    "import matplotlib.pyplot as plt\n",
    "\n",
    "plt.plot(msd_db.keys(), msd_db.values())\n"
   ]
  },
  {
   "cell_type": "code",
   "execution_count": null,
   "metadata": {},
   "outputs": [],
   "source": [
    "msd_db\n"
   ]
  },
  {
   "cell_type": "code",
   "execution_count": null,
   "metadata": {},
   "outputs": [],
   "source": []
  }
 ],
 "metadata": {
  "kernelspec": {
   "display_name": "Python 3 (ipykernel)",
   "language": "python",
   "name": "python3"
  },
  "language_info": {
   "codemirror_mode": {
    "name": "ipython",
    "version": 3
   },
   "file_extension": ".py",
   "mimetype": "text/x-python",
   "name": "python",
   "nbconvert_exporter": "python",
   "pygments_lexer": "ipython3",
   "version": "3.11.1"
  }
 },
 "nbformat": 4,
 "nbformat_minor": 4
}
