{
 "cells": [
  {
   "cell_type": "markdown",
   "metadata": {},
   "source": [
    "# Erratic motion: random walks\n",
    "\n",
    "## Introduction\n",
    "\n",
    "A stochastic (i.e. *random*) process is a temporal **sequence** of random variables. Possibly the simplest instance of stochastic processes are **random walks**, where the successive elements of the sequence are defined by the following recursive relation\n",
    "\n",
    "$$\n",
    "\\begin{equation}\n",
    "x_{n+1} = x_{n}+l \\xi_n,\n",
    "\\end{equation}\n",
    "$$ (rw)\n",
    "\n",
    "where $\\xi_n$ is a random variable with zero average $\\langle \\xi_n\\rangle=0$ and unit variance $\\langle \\xi_n \\xi_{n\\prime}\\rangle=1$ and $\\ell$ the scale for the random steps.\n",
    "\n",
    "The index $n$ represents a discretisation of time, so that one can rewrite Eq.{eq}`rw` as \n",
    "\n",
    "$$\n",
    "\\begin{equation}\n",
    "x_{t+\\Delta t} = x_{t}+l \\xi_t,\n",
    "\\end{equation}\n",
    "$$\n",
    "\n",
    "The erratic motion of a random walker constitutes a minimal model for what is called **Brownian motion**. "
   ]
  },
  {
   "cell_type": "markdown",
   "metadata": {},
   "source": [
    "```{admonition} Historical note: Brownian motion\n",
    ":class: history dropdown\n",
    "\n",
    "\n",
    "In 1827 Robert Brown reported about his optical microscope observations of the irregular motions of pollen grains suspended in water. His serendipituous discovery was originally motivated by a biological motive: to understand the machanisms of reproduction in plants.\n",
    "\n",
    "What he found, instead, was that pollen in water exhibited an erratic motion, regardless of the kind of plant considered, whether the plant was alive or not and regardless of whether the plant was believed to have sexual organs.\n",
    "\n",
    "Link to the original notes by Brown  [&rarr;](https://sciweb.nybg.org/science2/pdfs/dws/Brownian.pdf) .\n",
    "\n",
    "Brown did not attempt an explanation, but did not exclude that the motion was inanimated.\n",
    "\n",
    "Only much later Albert Einstein provided a physical description that could rationalise Brownian motion. Einstein did this in his seminal 1905 article in *Annalen der Physik* (see a later account in English in {cite}`einstein1956investigations`).\n",
    "\n",
    "```\n",
    "\n",
    "When time is not discretised, random walks are treated rigorously within the mathematical theory of [Wiener processes](https://en.wikipedia.org/wiki/Wiener_process).\n",
    "\n",
    "Here we characterise the key properties of random walks, and we do so by focusing initially on simplest case of **one-dimensional random walks**"
   ]
  },
  {
   "cell_type": "markdown",
   "metadata": {},
   "source": [
    "## One dimensional motion and its statistics\n",
    "\n",
    "In one dimension, eq.{eq}`rw` represents the motion of a particle on a line, kicked to the left or the right with equal proability and performing steps of length $\\ell$.\n",
    "\n",
    "As the process is stochastic, the position of the particle at a given time $t=n\\Delta t$ is also a random variable. Therefore, the key quantity of interest is the probability distribution $P(x_t|x_0)$, i.e. the probability to find the particle at position $x$ at time $t$ knowing that the initial position was $x_0$.\n",
    "\n",
    "Let us take a general case where the probability to move right is $p$ and the probability to move right is $q=1-p$. \n",
    "\n",
    "It is easy to simulate this process directly using elementary `Python`.\n"
   ]
  },
  {
   "cell_type": "code",
   "execution_count": 1,
   "metadata": {},
   "outputs": [],
   "source": [
    "import numpy as np\n",
    "import matplotlib.pyplot as plt\n",
    "\n",
    "def naive_random_walker(N, M, delta=1.0, dims=1):\n",
    "    \"\"\"\n",
    "    Simulates a random walk. Parameters:\n",
    "    - N: number of steps\n",
    "    - M: number fo walkers\n",
    "    - delta: size of one step (default=1)\n",
    "    - dims : number of dimensions (default=1)\n",
    "    \"\"\"\n",
    "\n",
    "    # The initial position is the origin\n",
    "    position = np.zeros((N, M, dims))\n",
    "    # Random walks\n",
    "    for i in range(1, N):\n",
    "        for w in range(M):\n",
    "            dr = delta * np.random.choice([-1, 1], size=dims)\n",
    "            position[i, w] = position[i - 1, w] + dr\n",
    "    return position\n"
   ]
  },
  {
   "cell_type": "markdown",
   "metadata": {},
   "source": [
    "It is easy to histogram the positions to approximate the evolution of $P(x,t)$. For example, "
   ]
  },
  {
   "cell_type": "code",
   "execution_count": 3,
   "metadata": {},
   "outputs": [
    {
     "data": {
      "image/png": "[encoded data removed]",
      "text/plain": [
       "<Figure size 720x450 with 1 Axes>"
      ]
     },
     "metadata": {},
     "output_type": "display_data"
    }
   ],
   "source": [
    "positions = naive_random_walker(100, 1000)\n",
    "max_dist = np.abs(positions).max()\n",
    "every = 10\n",
    "for t, pos in enumerate(positions[::every]):\n",
    "    plt.hist(\n",
    "        pos, bins=np.arange(-max_dist, max_dist + 1), label=str(t * every), density=True\n",
    "    )\n",
    "plt.legend(title=\"t\")\n",
    "plt.xlabel(\"x\")\n",
    "plt.ylabel(\"P(x)\")\n",
    "plt.show()\n"
   ]
  },
  {
   "cell_type": "markdown",
   "metadata": {},
   "source": [
    "As the system evolves, the distribution $P(x)$ evolves from a narrow (i.e. *delta*) distribution to a broader, symmetric distribution, reminiscent of a normal distribution.\n",
    "\n",
    "Indeed, one can prove that the distribution of the displacememnt form the origin $x$ at time $t$ converges (in the limit of a large number of walks) to \n",
    "\n",
    "$$\n",
    "\\begin{equation}\n",
    " P(x,t)\\approx2\\mathcal{N}(0,\\sigma^2) = \\frac{2}{\\sqrt{2 \\pi l^{2}t /\\Delta t}} \\exp \\left(-\\frac{x^{2} \\Delta t }{ 2 l^{2}t}\\right) \n",
    "\\end{equation}\n",
    "$$\n",
    "where $\\mathcal{N}(m,s^2)$ is the normal distirbution with mean $m$  and standard deviation $s$ and the factor 2 takes into account the fact that only even (odd) bins can be filled for even (odd) $t$. "
   ]
  },
  {
   "cell_type": "markdown",
   "metadata": {},
   "source": [
    "```{admonition} Proof\n",
    ":class: proof dropdown\n",
    "\n",
    "Let $p$ and $q=1-p$ be the probability of a right/left step respectively. After $N$ steps, what is the probability of a walker that departed form the origin to be at position $m$?\n",
    "\n",
    "We know that $N=n_1+n_2$ where $n_1$ is the number of steps to the right and $n_2$ is the number of steps to the left. The position is $m=n_1-n_2$  so we can write\n",
    "\n",
    "\n",
    "$$\n",
    "\\begin{equation}\n",
    "n_1=\\frac{1}{2}(N+m)\\quad,\\quad n_2=\\frac{1}{2}(N-m)\n",
    "\\end{equation}\n",
    "$$\n",
    "\n",
    "Every step is independent so the probability of an individual path is \n",
    "\n",
    "$$\n",
    "{\\rm Prob(path)}\\propto p^{n_1} q^{n_2}=p^{\\frac{1}{2}(N+m)} q^{\\frac{1}{2}(N-m)}$$\n",
    "\n",
    "Now some combinatorics. We need to count the number of ways we can realise a path with the pair of steps $(n_1,n_2)$. This is given by the combinations $\\dfrac{N!}{n_1! n_2!}$.\n",
    "\n",
    "Putting this all together we have that\n",
    "\n",
    "$$\n",
    "\\begin{equation}\n",
    "P(m, N)=\\frac{N !}{\\left(\\frac{N+m}{2}\\right) !\\left(\\frac{N-m}{2}\\right) !} p^{\\frac{1}{2}(N+m)} q^{\\frac{1}{2}(N-m)}\n",
    "\\end{equation}\n",
    "$$\n",
    "\n",
    "In this expression we can recognise the **binomial distribution** \n",
    "\n",
    "\n",
    "$$P(k,N)=\\left(\\begin{array}{l}\n",
    "N \\\\\n",
    "k\n",
    "\\end{array}\\right) p^k(1-p)^{N-k}$$\n",
    "\n",
    "with $k=(N+m)/2$. The first and second central moments of the binomial distributions are\n",
    "\n",
    "$$\\langle k\\rangle = Np \\quad {,} \\quad \\sigma^2=\\langle k^2\\rangle-\\langle k\\rangle^2=Npq$$\n",
    "\n",
    "For $p=q=1/2$ we have\n",
    "\n",
    "$$\n",
    "\\begin{equation}\n",
    "P(m, N)=\\frac{N !}{\\left(\\frac{N+m}{2}\\right) !\\left(\\frac{N-m}{2}\\right) !} \\left(\\dfrac{1}{2}\\right)^N\n",
    "\\end{equation}\n",
    "$$\n",
    "\n",
    "or correspondingly \n",
    "\n",
    "$$P(k,N)=\\left(\\begin{array}{l}\n",
    "N \\\\\n",
    "k\n",
    "\\end{array}\\right) \\left(\\dfrac{1}{2}\\right)^{N}$$\n",
    "\n",
    "with mean $\\langle k\\rangle =N/2$ and variance ${\\rm Var}[k]=N/4$.\n",
    "\n",
    "In the large $N$ limit, the Central Limit Theorem ensures that the binomial distribution converges to a normal distribution with identical mean and variance, so that\n",
    "\n",
    "$$\n",
    "P(k,N)\\rightarrow\\dfrac{1}{\\sqrt{2\\pi N/4}}e^{-\\frac{(k-N/2)^2}{2N/4}}\n",
    "$$\n",
    "\n",
    "And, by simplifying and recalling that $m = 2k-N$  we have\n",
    "\n",
    "$$\n",
    "P(m,N) = \\dfrac{2}{\\sqrt{2\\pi N}} e^{-\\frac{ m}{2N}}\n",
    "$$\n",
    "\n",
    "The mean of the displacement is therefore\n",
    "\n",
    "$$\n",
    "\\langle m\\rangle = 2\\langle k\\rangle-N  =2pN-N=0\n",
    "$$\n",
    "\n",
    "and its variance \n",
    "\n",
    "$$\n",
    "{\\rm Var}[m]=\\langle m^2\\rangle-\\langle m\\rangle^2 = {\\rm Var}[2 k-N]=4{\\rm Var}[k] = N\n",
    "$$\n",
    "\n",
    "```"
   ]
  },
  {
   "cell_type": "markdown",
   "metadata": {},
   "source": [
    "\n",
    "## Mean squared displacement (MSD)\n",
    "\n",
    "It is convenient to define a \n",
    "The pdf $P(x,t)$ has  average $\\langle x \\rangle =0$, corresponding to the expectation that in an (unbiased) random walk there is no net motion in one direction or the other (on average). Its variance is \n",
    "\n",
    "$$\n",
    "\\begin{equation}\n",
    "\\langle x^2\\rangle=\\dfrac{l^2t}{\\Delta t}\n",
    "\\end{equation}\n",
    "$$\n",
    "\n",
    "If we define the **diffusion constant** \n",
    "\n",
    "$$\n",
    "\\begin{equation}\n",
    "D = \\dfrac{l^2}{2\\Delta t}\n",
    "\\end{equation}\n",
    "$$\n",
    "\n",
    "the variance reads \n",
    "\n",
    "$$\n",
    "\\begin{equation}\n",
    "\\langle x^2\\rangle=2Dt\n",
    "\\end{equation}\n",
    "$$\n",
    "\n",
    "hence, while the typical position remains at the origin, an individually picked random walker can be rather far from the origin. This (squared) distance is called **mean squared displacement**\n",
    "\n",
    "$$\n",
    "\\begin{equation}\n",
    "{\\rm MSD}(t) =\\langle |x(t)-x(0)|^2\\rangle = 2Dt\n",
    "\\end{equation}\n",
    "$$"
   ]
  },
  {
   "cell_type": "markdown",
   "metadata": {},
   "source": [
    "```{admonition} Key properties\n",
    ":class: key\n",
    "- the MSD is estimated from the **variance** of the probability distribution of the displacement of the population of walkers.\n",
    "- the MSD grows **linearly** with time.\n",
    "- the constant of proportionality between the MSD and time is the **diffusion coefficient**, times a geometric factor that depends on dimensionality (see below).\n",
    "\n",
    "```"
   ]
  },
  {
   "cell_type": "markdown",
   "metadata": {},
   "source": [
    "We can calculate the mean squared displacement directly from the time-series of particle positions. In a **double-logarithmic** plot this results in a straight line. Fitting the MSD with a linear regression provides an estimate for the diffusion constant."
   ]
  },
  {
   "cell_type": "code",
   "execution_count": 2,
   "metadata": {
    "tags": [
     "hide-input"
    ]
   },
   "outputs": [
    {
     "data": {
      "image/png": "[encoded data removed]",
      "text/plain": [
       "<Figure size 720x450 with 1 Axes>"
      ]
     },
     "metadata": {},
     "output_type": "display_data"
    }
   ],
   "source": [
    "from statistics import linear_regression\n",
    "\n",
    "N = 100\n",
    "M = 100\n",
    "positions = naive_random_walker(N, M, dims=1)\n",
    "t = np.arange(N)\n",
    "msd = np.mean((positions - positions[0]) ** 2, axis=1)\n",
    "# linear fit with zero intercept. transform msd in column vector\n",
    "slope, intercept = linear_regression(t, msd, proportional=True)\n",
    "\n",
    "plt.loglog(t, msd,'o', mfc='None')\n",
    "plt.loglog(t,slope*t)\n",
    "plt.title(f\"D = {slope/2:.3f}\")\n",
    "plt.xlabel(\"steps\")\n",
    "plt.ylabel(\"MSD\")\n",
    "plt.show()\n"
   ]
  },
  {
   "cell_type": "markdown",
   "metadata": {},
   "source": []
  },
  {
   "cell_type": "markdown",
   "metadata": {},
   "source": [
    "```{bibliography}\n",
    ":style: unsrt\n",
    ":filter: docname in docnames\n",
    "```\n",
    "\n"
   ]
  }
 ],
 "metadata": {
  "celltoolbar": "Tags",
  "kernelspec": {
   "display_name": "Python 3 (ipykernel)",
   "language": "python",
   "name": "python3"
  },
  "language_info": {
   "codemirror_mode": {
    "name": "ipython",
    "version": 3
   },
   "file_extension": ".py",
   "mimetype": "text/x-python",
   "name": "python",
   "nbconvert_exporter": "python",
   "pygments_lexer": "ipython3",
   "version": "3.11.1"
  }
 },
 "nbformat": 4,
 "nbformat_minor": 4
}
