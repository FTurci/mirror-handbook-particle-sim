{
 "cells": [
  {
   "cell_type": "markdown",
   "metadata": {},
   "source": [
    "# Erratic motion: random walks\n",
    "\n",
    "## Introduction\n",
    "\n",
    "A stochastic (i.e. *random*) process is a temporal **sequence** of random variables. Possibly the simplest instance of stochastic processes are **random walks**, where the successive elements of the sequence are defined by the following recursive relation\n",
    "\n",
    "$$\n",
    "\\begin{equation}\n",
    "x_{n+1} = x_{n}+l \\xi_n,\n",
    "\\end{equation}\n",
    "$$ (rw)\n",
    "\n",
    "where $\\xi_n$ is a random variable with zero average $\\langle \\xi_n\\rangle=0$ and unit variance $\\langle \\xi_n \\xi_{n\\prime}\\rangle=1$ and $\\ell$ the scale for the random steps.\n",
    "\n",
    "The index $n$ represents a discretisation of time, so that one can rewrite Eq.{eq}`rw` as \n",
    "\n",
    "$$\n",
    "\\begin{equation}\n",
    "x_{t+\\Delta t} = x_{t}+l \\xi_t,\n",
    "\\end{equation}\n",
    "$$\n",
    "\n",
    "The erratic motion of a random walker constitutes a minimal model for what is called **Brownian motion**. \n",
    "\n",
    "\n",
    "```{admonition} Historical note: Brownian motion\n",
    ":class: history dropdown\n",
    "\n",
    "\n",
    "In 1827 Robert Brown reported about his optical microscope observations of the irregular motions of pollen grains suspended in water. His serendipituous discovery was originally motivated by a biological motive: to understand the machanisms of reproduction in plants.\n",
    "\n",
    "What he found, instead, was that pollen in water exhibited an erratic motion, regardless of the kind of plant considered, whether the plant was alive or not and regardless of whether the plant was believed to have sexual organs.\n",
    "\n",
    "Link to the original notes by Brown  [&rarr;](https://sciweb.nybg.org/science2/pdfs/dws/Brownian.pdf) .\n",
    "\n",
    "Brown did not attempt an explanation, but did not exclude that the motion was inanimated.\n",
    "\n",
    "Only much later Albert Einstein provided a physical description that could rationalise Brownian motion. Einstein did this in his seminal 1905 article in *Annalen der Physik* (see a later account in English in {cite}`einstein1956investigations`).\n",
    "\n",
    "```\n",
    "\n",
    "When time is not discretised, random walks are treated rigorously within the mathematical theory of [Wiener processes](https://en.wikipedia.org/wiki/Wiener_process).\n",
    "\n",
    "Here we characterise the key properties of random walks, and we do so by focusing initially on simplest case of **one-dimensional random walks**"
   ]
  },
  {
   "cell_type": "markdown",
   "metadata": {},
   "source": [
    "## One dimensional motion and its statistics\n",
    "\n",
    "In one dimension, eq.{eq}`rw` represents the motion of a particle on a line, kicked to the left or the right with equal proability and performing steps of length $\\ell$.\n",
    "\n",
    "As the process is stochastic, the position of the particle at a given time $t=n\\Delta t$ is also a random variable. Therefore, the key quantity of interest is the probability distribution $P(x_t|x_0)$, i.e. the probability to find the particle at position $x$ at time $t$ knowing that the initial position was $x_0$.\n",
    "\n",
    "Let us take a general case where the probability to move right is $p$ and the probability to move right is $q=1-p$. \n",
    "\n",
    "It is easy to simulate this process directly using elementary `Python`.\n"
   ]
  },
  {
   "cell_type": "code",
   "execution_count": 12,
   "metadata": {},
   "outputs": [],
   "source": [
    "import numpy as np\n",
    "import matplotlib.pyplot as plt\n",
    "def naive_random_walker(N,M,delta=1.0,dims=1):\n",
    "    \"\"\"\n",
    "    Simulates a random walk. Parameters:\n",
    "    - N: number of steps\n",
    "    - M: number fo walkers\n",
    "    - delta: size of one step (default=1)\n",
    "    - dims : number of dimensions (default=1)\n",
    "    \"\"\" \n",
    "    # The initial position is the origin\n",
    "    position = np.zeros((N,M, dims))\n",
    "    # Random walks\n",
    "    for i in range(1,N):\n",
    "        for w in range(M):\n",
    "            dr = delta * np.random.choice([-1, 1], size=dims)\n",
    "            position[i,w] = position[i-1,w]+dr\n",
    "    return position\n",
    "\n",
    "\n",
    "positions = naive_random_walker(100,1000)"
   ]
  },
  {
   "cell_type": "markdown",
   "metadata": {},
   "source": [
    "It is easy to histogram the positions to approximate the evolution of $P(x,t)$. For example, "
   ]
  },
  {
   "cell_type": "code",
   "execution_count": 20,
   "metadata": {},
   "outputs": [
    {
     "data": {
      "text/plain": [
       "Text(0, 0.5, 'P(x)')"
      ]
     },
     "execution_count": 20,
     "metadata": {},
     "output_type": "execute_result"
    },
    {
     "data": {
      "image/png": "[encoded data removed]",
      "text/plain": [
       "<Figure size 640x480 with 1 Axes>"
      ]
     },
     "metadata": {},
     "output_type": "display_data"
    }
   ],
   "source": [
    "max_dist = np.abs(positions).max()\n",
    "every =10\n",
    "for t,pos in enumerate(positions[::every]):\n",
    "    plt.hist(pos,bins=np.arange(-max_dist,max_dist+1),label=str(t*every),density=True)\n",
    "plt.legend(title='t')\n",
    "plt.xlabel('x')\n",
    "plt.ylabel('P(x)');"
   ]
  },
  {
   "cell_type": "markdown",
   "metadata": {},
   "source": [
    "As the system evolves, the distribution $P(x)$ evolves from a narrow (i.e. *delta*) distribution to a broader, symmetric distribution, reminiscent of a normal distribution.\n",
    "\n",
    "Indeed, one can prove that the distribution of the displacememnt form the origin $x$ at time $t$ converges (in the limit of a large number of walks) to \n",
    "\n",
    "$$\n",
    "\\begin{equation}\n",
    " P(x,t)\\approx2\\mathcal{N}(0,\\sigma^2) = \\frac{2}{\\sqrt{2 \\pi l^{2}t /\\Delta t}} \\exp \\left(-\\frac{x^{2} \\Delta t }{ 2 l^{2}t}\\right) \n",
    "\\end{equation}\n",
    "$$\n",
    "where $\\mathcal{N}(m,s^2)$ is the normal distirbution with mean $m$  and standard deviation $s$ and the factor 2 takes into account the fact that only even (odd) bins can be filled for even (odd) $t$. \n",
    "\n",
    "```{admonition} Proof\n",
    ":class: proof dropdown\n",
    "Let $p$ and $q=1-p$ be the probability of a right/left step respectively. After $N$ steps, what is the probability of a walker that departed form the origin to be at position $m$?\n",
    "\n",
    "We know that $N=n_1+n_2$ where $n_1$ is the number of steps to the right and $n_2$ is the number of steps to the left. The position is $m=n_1-n_2$  so we can write\n",
    "\n",
    "$$\n",
    "\\begin{equation}\n",
    "n_1=\\frac{1}{2}(N+m)\\quad,\\quad n_2=\\frac{1}{2}(N-m)\n",
    "\\end{equation}\n",
    "$$\n",
    "\n",
    "Every step is independent so the probability of an individual path is \n",
    "\n",
    "$$\n",
    "{\\rm Prob(path)}\\propto p^{n_1} q^{n_2}=p^{\\frac{1}{2}(N+m)} q^{\\frac{1}{2}(N-m)}$$\n",
    "\n",
    "Now some combinatorics. We need to count the number of ways we can realise a path with the pair of steps $(n_1,n_2)$. This is given by the combinations $\\dfrac{N!}{n_1! n_2!}$.\n",
    "\n",
    "Putting this all together we have that\n",
    "\n",
    "$$\n",
    "\\begin{equation}\n",
    "P(m, N)=\\frac{N !}{\\left(\\frac{N+m}{2}\\right) !\\left(\\frac{N-m}{2}\\right) !} p^{\\frac{1}{2}(N+m)} q^{\\frac{1}{2}(N-m)}\n",
    "\\end{equation}\n",
    "$$\n",
    "In this expression we can recognise the **binomial distribution** \n",
    "\n",
    "$$P(k,N)=\\left(\\begin{array}{l}\n",
    "N \\\\\n",
    "k\n",
    "\\end{array}\\right) p^k(1-p)^{N-k}$$\n",
    "\n",
    "with $k=(N+m)/2$. The first and second central moments of the binomial distributions are\n",
    "\n",
    "$$\\langle k\\rangle = Np \\quad {,} \\quad \\sigma^2=\\langle k^2\\rangle-\\langle k\\rangle^2=Npq$$\n",
    "\n",
    "For $p=q=1/2$ we have\n",
    "\n",
    "$$\n",
    "\\begin{equation}\n",
    "P(m, N)=\\frac{N !}{\\left(\\frac{N+m}{2}\\right) !\\left(\\frac{N-m}{2}\\right) !} \\left(\\dfrac{1}{2}\\right)^N\n",
    "\\end{equation}\n",
    "$$\n",
    "\n",
    "\n",
    "In the large $N$ limit, the Central Limit Theorem ensures that the binomial dsitribution converges to a normal distribution with identical mean and variance, so that\n",
    "\n",
    "$$\n",
    "P(k,N)\\rightarrow\\dfrac{1}{\\sqrt{2\\pi N/4}}e^{-\\frac{(k-N/2)^2}{2N/4}}\n",
    "$$\n",
    "\n",
    "And, by simplifying and recalling that $m = 2k-N$  we have\n",
    "\n",
    "$$\n",
    "P(m,N) = \\dfrac{2}{\\sqrt{2\\pi N}} e^{-\\frac{ m}{2N}}\n",
    "$$\n",
    "\n",
    "The moments of $m$ are therefore\n",
    "\n",
    "$$\n",
    "\\langle m\\rangle = 2\\langle k\\rangle-N  =2pN-N=0\n",
    "$$\n",
    "\n",
    "and\n",
    "\n",
    "$$\n",
    "\\langle \\sigma^2\\rangle = N\n",
    "$$\n",
    "\n",
    "\n",
    "```"
   ]
  },
  {
   "cell_type": "markdown",
   "metadata": {},
   "source": [
    "\n",
    "## Mean squared displacement (MSD)\n",
    "\n",
    "\n",
    "\n",
    "\n",
    "\n",
    "Tab set here (to compare algorithms):\n",
    "````{tab-set}\n",
    "```{tab-item} Tab 1 title\n",
    "My first tab\n",
    "```\n",
    "\n",
    "```{tab-item} Tab 2 title\n",
    "My second tab with `some code`!\n",
    "```\n",
    "````\n",
    "\n",
    "\n",
    "```{toggle}\n",
    "Some hidden toggle content!\n",
    "\n",
    "```\n",
    "\n",
    "\n",
    "```{admonition} Proof\n",
    ":class: proof dropdown\n",
    "\n",
    "$$\n",
    "\\begin{equation}\n",
    "y = f(x)\n",
    "\\end{equation}\n",
    "$$\n",
    "\n",
    "```\n",
    "\n",
    "```{bibliography}\n",
    ":filter: docname in docnames\n",
    "```"
   ]
  },
  {
   "cell_type": "markdown",
   "metadata": {},
   "source": [
    "\n",
    "\n",
    "We simulate a simple random walk in $d$ dimensions. In a first implementation, the steps have a fixed length $\\delta$ along each dimension. To improve the statistics, we simulate $M$ independent walks at a time, and average the mean square displacement $\\langle |\\Delta \\vec{r}|^2\\rangle$ over the different realizations of the walk."
   ]
  },
  {
   "cell_type": "code",
   "execution_count": null,
   "metadata": {},
   "outputs": [],
   "source": [
    "import numpy\n",
    "import matplotlib.pyplot as plt "
   ]
  },
  {
   "cell_type": "code",
   "execution_count": null,
   "metadata": {},
   "outputs": [],
   "source": []
  },
  {
   "cell_type": "markdown",
   "metadata": {},
   "source": [
    "**Exercise 1**: plot the trajectory $\\vec{r}(t) = (x(t), y(t))$ of a single walk in 2d "
   ]
  },
  {
   "cell_type": "markdown",
   "metadata": {},
   "source": [
    "**Exercise 2**: code the following two kinds of displacements\n",
    "\n",
    "1. discrete north-south-east-west displacement in 2d\n",
    "2. continuous displacement uniformly distributed on a square of side $\\delta$ in 2d\n",
    "\n",
    "For each case, compare the numerical data to the theoretical prediction."
   ]
  },
  {
   "cell_type": "markdown",
   "metadata": {},
   "source": [
    "**Exercise 3**: measure the probability density function (pdf) $p(x,t)$ for a random walk in 1d with a uniformly distributed displacement on the interval $[-\\delta, \\delta]$. Choose $10$ time units and compare to the numerical results to the theoretical prediction for a random walk in the continuum limit.\n",
    "\n",
    "*Hint*: to compute the pdf, use the function `numpy.histogram()` with `density=True`. The function returns the pdf values and the bins edges. The get the midpoints of the bins, modify the array like this ```bins = 0.5 * (bins[1:] + bins[:-1])```"
   ]
  }
 ],
 "metadata": {
  "kernelspec": {
   "display_name": "Python 3 (ipykernel)",
   "language": "python",
   "name": "python3"
  },
  "language_info": {
   "codemirror_mode": {
    "name": "ipython",
    "version": 3
   },
   "file_extension": ".py",
   "mimetype": "text/x-python",
   "name": "python",
   "nbconvert_exporter": "python",
   "pygments_lexer": "ipython3",
   "version": "3.8.11"
  }
 },
 "nbformat": 4,
 "nbformat_minor": 4
}
