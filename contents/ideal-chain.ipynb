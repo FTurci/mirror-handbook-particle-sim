{
 "cells": [
  {
   "cell_type": "markdown",
   "metadata": {},
   "source": [
    "# Ideal chain \n",
    "\n",
    "## Minimal assumptions\n",
    "Consider a chain composed of $N+1$ monomers, linked by a rigid bond of fixed length $a$. This chain, subject to thermal fluctuations, constitutes the simplest model of polymers that we can treat computationally.\n",
    "\n",
    "The assumptions are therefore:\n",
    "- $N+1$ monomers\n",
    "- $|\\vec{a}_i|=a$\n",
    "- independent random orientations, with \n",
    "    - mean $\\langle \\vec{a}_i\\rangle =\\vec{0}$\n",
    "    - variance $\\langle \\vec{a}_i\\vec{a}_j\\rangle = a^2\\delta_{ij}$\n",
    "\n",
    "\n",
    "Let us create one."
   ]
  },
  {
   "cell_type": "code",
   "execution_count": null,
   "metadata": {
    "vscode": {
     "languageId": "plaintext"
    }
   },
   "outputs": [],
   "source": [
    "def create_ideal_chain"
   ]
  },
  {
   "cell_type": "markdown",
   "metadata": {},
   "source": []
  }
 ],
 "metadata": {
  "language_info": {
   "name": "python"
  }
 },
 "nbformat": 4,
 "nbformat_minor": 2
}
