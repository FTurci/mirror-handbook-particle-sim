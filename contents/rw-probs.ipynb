{
 "cells": [
  {
   "cell_type": "markdown",
   "metadata": {},
   "source": [
    "# Problems"
   ]
  },
  {
   "cell_type": "markdown",
   "metadata": {},
   "source": [
    "## Problem 1\n",
    "\n",
    "Write a program to generate the trajectory of a single walk in two spatial dimension $x,y$ and plot it using `matplotlib`."
   ]
  },
  {
   "cell_type": "code",
   "execution_count": null,
   "metadata": {},
   "outputs": [],
   "source": [
    "import numpy as np\n",
    "import matplotlib.pyplot as plt\n",
    "\n",
    "# generate vector of positions r = (x,y). Draw inspiration from the examples in the text.\n",
    "r = ...\n",
    "\n",
    "plt.plot(r[:,0],r[:,1])\n",
    "plt.axis('equal')\n",
    "plt.show()"
   ]
  },
  {
   "cell_type": "markdown",
   "metadata": {},
   "source": [
    "## Problem 2\n",
    "\n",
    "Modify your code to generate the random walk to implement continuous displacement uniformly distributed on a square of side $\\delta$ in dimension $d=2$.\n",
    "\n",
    "Calculate \n",
    "\n",
    "1. the mean squared displacement\n",
    "2. the diffusion constant \n",
    "\n",
    "and compare your results with the theoretical prediction:\n",
    "\n",
    "$$MSD = 2d D t$$"
   ]
  },
  {
   "cell_type": "markdown",
   "metadata": {},
   "source": [
    "## Problem 3 \n",
    "\n",
    "Measure the probability density function (pdf) $p(x,t)$ for a random walk in 1d with a uniformly distributed displacement on the interval $[-\\delta, \\delta]$. Choose $10$ time units and compare to the numerical results to the theoretical prediction for a random walk in the continuum limit.\n",
    "\n",
    "*Hint*: to compute the pdf, use the function `numpy.histogram()` with `density=True`. The function returns the pdf values and the bins edges. The get the midpoints of the bins, modify the array like this ```bins = 0.5 * (bins[1:] + bins[:-1])```"
   ]
  }
 ],
 "metadata": {
  "kernelspec": {
   "display_name": "env",
   "language": "python",
   "name": "python3"
  },
  "language_info": {
   "name": "python",
   "version": "3.11.1"
  },
  "orig_nbformat": 4
 },
 "nbformat": 4,
 "nbformat_minor": 2
}
