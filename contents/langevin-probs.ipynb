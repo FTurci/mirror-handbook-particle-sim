{
 "cells": [
  {
   "cell_type": "markdown",
   "id": "592c625b-bb01-4d85-a111-b204f85796ff",
   "metadata": {},
   "source": [
    "# &#10697; Problems "
   ]
  },
  {
   "cell_type": "markdown",
   "id": "09e13b74-6284-4b24-acbb-d2046629547d",
   "metadata": {},
   "source": [
    "## Problem 1: *drift-diffusion*\n",
    "\n",
    "The Brownian particles are subject to a constant external force $F>0$ in one dimension. This will lead to a systematic drift in the motion of the particles.\n",
    "\n",
    "1. Compute analytically the first two moments of the position, $\\langle x(t)\\rangle$ and $\\langle x^2(t)\\rangle$, and provide a physical interpretation of the results\n",
    "2. Cross-check the results against the simulation data and plot the results in a double logarithmic scale. Identify the ballistic and the diffusive regime."
   ]
  },
  {
   "cell_type": "markdown",
   "id": "88892e3f-64ab-4bf3-8c24-2fe500c0bf6d",
   "metadata": {},
   "source": [
    "## Problem 2: *harmonic potential* \n",
    "\n",
    "Put the Brownian particles in a harmonic potential $U(x) = \\frac{1}{2}kx^2$ in one dimension.\n",
    "\n",
    "1. Check that $\\langle |\\Delta x(t)|^2\\rangle$ is diffusive in the absence of external field but saturates to a finite value when the harmonic potential is switched on\n",
    "\n",
    "2. Determine analytically the equilibrium value $\\langle |\\Delta x(t=\\infty)|^2\\rangle$ and compare it to the simulation data. Which factors control the relaxation time that describes the approach to equilibrium? "
   ]
  },
  {
   "cell_type": "markdown",
   "id": "38a507c0-b841-4c25-a17b-81894a074526",
   "metadata": {},
   "source": [
    "## Problem 3 *thermally activated barrier crossing*\n",
    "\n",
    "Study numerically the dynamics of a Brownian particle in a one-dimensional double well potential \n",
    "\n",
    "$$\n",
    "U(x) = U_0 (1 - (x/a)^2)^2\n",
    "$$\n",
    "\n",
    "The initial position of the particle will be at the bottom of the left well: $x(t=0)=-a$. \n",
    "\n",
    "1. Choose a temperature $T > U_0$, for which barrier crossing is easy, and plot a single trajectory $x(t)$ over a sufficiently long time. What do you observe?\n",
    "2. Reduce the temperature, $T < U_0$, and repeat the numerical experiment. What do you observe? \n",
    "3. Give the expression of the probability density $p(x)$ at equilibrium. Can you estimate the time needed to reach equilibrium? (simulate several independent particles in parallel)"
   ]
  },
  {
   "cell_type": "markdown",
   "id": "b600670d-cd07-44a3-94e9-ed3a21bff86c",
   "metadata": {},
   "source": [
    "## Problem 4: *stochastic resonance*\n",
    "\n",
    "Consider a Brownian particle in a double well potential\n",
    "$$\n",
    "U(x) = U_0 (1 - (x/a)^2)^2\n",
    "$$\n",
    "subject to an additional periodic force of the form\n",
    "$$\n",
    "F(x) = F_0 \\sin(2\\pi t/\\tau)\n",
    "$$\n",
    "where $A$ is the forcing amplitude and $\\tau$ is the forcing period. For convenience, set $U_0=1$ and $a=1$.\n",
    "\n",
    "1. Use Kramers theory to estimate the relaxation time $\\tau_K$ at $T=0.4$ *in the absence of forcing* ($A=0$).\n",
    "2. Add a small forcing $F_0=10^{-1}$ and plot the trajectory of the Brownian particle $x(t)$ over a time much longer than $\\tau_K$ in the following two cases: (i) $\\tau > \\tau_K$, (ii) $\\tau < \\tau_K$. What do you observe? \n",
    "3. Compare your results to the analysis of Benzi, Nonlin. Processes Geophys. 17, 431 (2010) (https://npg.copernicus.org/articles/17/431/2010/) and of Simon & Libchaber, Phys. Rev. Lett. 68, 3375 (1992) (https://journals.aps.org/prl/abstract/10.1103/PhysRevLett.68.3375)"
   ]
  },
  {
   "cell_type": "code",
   "execution_count": null,
   "id": "16429daa-9e52-44b5-a9ab-d1b05638a2a0",
   "metadata": {},
   "outputs": [],
   "source": []
  }
 ],
 "metadata": {
  "kernelspec": {
   "display_name": "Python 3 (ipykernel)",
   "language": "python",
   "name": "python3"
  },
  "language_info": {
   "codemirror_mode": {
    "name": "ipython",
    "version": 3
   },
   "file_extension": ".py",
   "mimetype": "text/x-python",
   "name": "python",
   "nbconvert_exporter": "python",
   "pygments_lexer": "ipython3",
   "version": "3.11.1"
  }
 },
 "nbformat": 4,
 "nbformat_minor": 5
}
